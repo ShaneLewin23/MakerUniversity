{
 "cells": [
  {
   "cell_type": "markdown",
   "id": "205d626b",
   "metadata": {},
   "source": [
    "# Working with latex in notebooks, lesson 1"
   ]
  },
  {
   "cell_type": "markdown",
   "id": "87b8d6c3",
   "metadata": {},
   "source": [
    "This tutorial will teach you how to render math equations in notebooks. Equations can only be rendered in markdown mode.  \n",
    "For fans of videos, there's a good one here: \n",
    "https://www.youtube.com/watch?v=-F4WS8o-G2A\n",
    "\n",
    "And a more detailed description of markdown and latex here: \n",
    "https://towardsdatascience.com/write-markdown-latex-in-the-jupyter-notebook-10985edb91fd\n",
    "\n",
    "Google is always your friend while learning markdown.  The content here is the limited set that we will need for our homework assignments, with some problems for working through. \n",
    "\n",
    "### Equation Mode\n",
    "You can enter equation mode by putting \\\\$ around your equations, or \\\\$\\\\$ around equations that you wanted centered. For example, \\\\$x^2 + y\\\\$ would be rendered in equation mode as $x^2+y$ (more on what the ^ means in below). to center the equation I'd use \\\\$\\\\$ x^2 + y \\\\$\\\\$, which is rendered as: \n",
    "$$ x^2 + y $$\n",
    "\n",
    "### Passing Special symbols to latex in equation model\n",
    "When in equation mode, you can tell latex to use a special symbol using the backslash: \\\\. For example, \\\\div tells latex to render the divide symbol: $\\div$\n",
    "\n",
    "#### Make sure to pres shift+enter when you're done with you cells to tell latex to render them. "
   ]
  },
  {
   "cell_type": "markdown",
   "id": "757da563",
   "metadata": {},
   "source": [
    "## Multiply and divide symbols\n",
    "Divide is given by \\\\div. for multiply, I like the dot notation ($4\\cdot5$) which you can render with \\\\cdot, but you can also use \\\\times ($4\\times5$) to create the familiar $\\times$ symbol. "
   ]
  },
  {
   "cell_type": "markdown",
   "id": "3721dbc1",
   "metadata": {},
   "source": [
    "#### Problems\n",
    "Write latex code to replicate each equation\n",
    "\n",
    "1. $5\\cdot4 + 10\\div2$\n",
    "2. $12\\times13\\times14\\times15$\n",
    "3. $4.5\\cdot 2.2222 + 3 - 4 + 25\\div 5$\n"
   ]
  },
  {
   "cell_type": "markdown",
   "id": "411d0f70",
   "metadata": {},
   "source": [
    "#### Solution:"
   ]
  },
  {
   "cell_type": "code",
   "execution_count": null,
   "id": "c768e530",
   "metadata": {},
   "outputs": [],
   "source": []
  },
  {
   "cell_type": "markdown",
   "id": "38033ab5",
   "metadata": {},
   "source": [
    "## Exponents"
   ]
  },
  {
   "cell_type": "markdown",
   "id": "4cc7867e",
   "metadata": {},
   "source": [
    "You can render an exponent using the ^ symbol in equation mode. For example, 5^2 would be rendered as $5^2$ in equation mode. \n",
    "An important fact about latex is that operators, such as the ^ symbol, only modify the character directly to the right of the operator. so if typed 2^10 you would get $2^10$. Do you see what happened? the carrot operator only changed the 1, not the 10. We can get around this by wrapping the 10 in brackets like {10}. Using brackets 2^{10} will be rendered as $2^{10}$, which is much better. \n",
    "\n",
    "#### Problems\n",
    "Write the latex code to replicate each equation\n",
    "\n",
    "4. $3^2 - 5^{25}$\n",
    "5. $2^{22}$\n",
    "6. $2\\div3^3 - 8\\times8^8$"
   ]
  },
  {
   "cell_type": "markdown",
   "id": "c75cdc9c",
   "metadata": {},
   "source": [
    "## Fractions\n",
    "Fractions are rendered in latex by using \\frac{1}{2}. The number in the first bracket gets put in the numerator and the number in the second gets put in the denominator. So the above in equation mode becomes $ \\frac{1}{2}$. You can put anything in each bracket. For example, \\frac{2^5 \\times 4}{\\pi} becomes $\\frac{2^5 \\times 4}{\\pi}$\n",
    "$$ \\text{\\frac{2^5 \\times 4}{\\pi}} \\rightarrow \\frac{2^5 \\times 4}{\\pi}$$\n",
    "(\\pi is the special symbol for $\\pi$). "
   ]
  },
  {
   "cell_type": "markdown",
   "id": "296aa1df",
   "metadata": {},
   "source": [
    "#### Problems\n",
    "Write the latex code to replicate each equation\n",
    "\n",
    "7. $\\frac{1}{2}$\n",
    "8. $$\\frac{ 3^5\\times4^{12}\\times 9 }{ 7\\times 4.2^{12}}$$"
   ]
  },
  {
   "cell_type": "markdown",
   "id": "0bb81b8e",
   "metadata": {},
   "source": [
    "#### Solution"
   ]
  },
  {
   "cell_type": "markdown",
   "id": "96da3763",
   "metadata": {},
   "source": []
  },
  {
   "cell_type": "markdown",
   "id": "6511ab40",
   "metadata": {},
   "source": [
    "## Parentheses and brackets\n",
    "You can render parentheses in equation mode using (), but its not always the right size. For example, (\\frac{1}{2}) would render as \n",
    "$$ (\\frac{1}{2}) $$\n",
    "\n",
    "Those cute little parens are a bit too small. You can tell latex to scale them up by using \\left( and \\right) instead of ( and ). So \\left(\\frac{1}{2}\\right) would render as \n",
    "$$ \\left(\\frac{1}{2}\\right) $$\n",
    "Which is much better.\n",
    "\n",
    "The same rules apply for brackets with \\left\\[ and \\right] for [ and ], respectively.\n",
    "\n",
    "#### Problems\n",
    "Write teh latex code to replicate each equation\n",
    "\n",
    "9. $$ \\left(\\frac{2^5+1}{\\pi}\\right) $$\n",
    "10. $$ \\left[ \\left(\\frac{2}{5}\\right)^2 + 23\\right]$$"
   ]
  },
  {
   "cell_type": "markdown",
   "id": "219a3ada",
   "metadata": {},
   "source": [
    "#### Solution: "
   ]
  },
  {
   "cell_type": "markdown",
   "id": "663fb848",
   "metadata": {},
   "source": []
  },
  {
   "cell_type": "markdown",
   "id": "edc34721",
   "metadata": {},
   "source": [
    "## The whole kit and kaboodle\n",
    "Problem 11 requires you to put all your hard earned latex skills to work.\n",
    "\n",
    "11. $$\\left[\\left(\\frac{5+10^{23}\\cdot 4}{6\\div 6^2}\\right) - 42^{42}\\right]^\\frac{3}{4}$$\n",
    "\n",
    "#### Solution: "
   ]
  },
  {
   "cell_type": "markdown",
   "id": "4a4057a2",
   "metadata": {},
   "source": []
  }
 ],
 "metadata": {
  "kernelspec": {
   "display_name": "science",
   "language": "python",
   "name": "science"
  },
  "language_info": {
   "codemirror_mode": {
    "name": "ipython",
    "version": 3
   },
   "file_extension": ".py",
   "mimetype": "text/x-python",
   "name": "python",
   "nbconvert_exporter": "python",
   "pygments_lexer": "ipython3",
   "version": "3.9.7"
  }
 },
 "nbformat": 4,
 "nbformat_minor": 5
}
