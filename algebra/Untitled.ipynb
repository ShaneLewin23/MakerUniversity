{
 "cells": [
  {
   "cell_type": "markdown",
   "id": "76536e09",
   "metadata": {},
   "source": [
    "### 1. Find 3 consecutive even integers who's sum is 738"
   ]
  },
  {
   "cell_type": "markdown",
   "id": "02e4b283",
   "metadata": {},
   "source": [
    "#### solution 1: analytic solution (preferred)\n",
    "$$ (a-2) + a + (a+2) = 248 $$\n",
    "$$ 3a=738 $$\n",
    "$$ a = \\frac{738}{3} $$"
   ]
  },
  {
   "cell_type": "code",
   "execution_count": 4,
   "id": "73c3fcfc",
   "metadata": {},
   "outputs": [
    {
     "data": {
      "text/plain": [
       "246.0"
      ]
     },
     "execution_count": 4,
     "metadata": {},
     "output_type": "execute_result"
    }
   ],
   "source": [
    "a = 738/3\n",
    "a"
   ]
  },
  {
   "cell_type": "code",
   "execution_count": 5,
   "id": "e792f758",
   "metadata": {},
   "outputs": [
    {
     "data": {
      "text/plain": [
       "738"
      ]
     },
     "execution_count": 5,
     "metadata": {},
     "output_type": "execute_result"
    }
   ],
   "source": [
    "# check\n",
    "244 + 246 + 248"
   ]
  },
  {
   "cell_type": "markdown",
   "id": "1e8316eb",
   "metadata": {},
   "source": [
    "#### Solution 2: hacker solution"
   ]
  },
  {
   "cell_type": "code",
   "execution_count": 8,
   "id": "6763eb81",
   "metadata": {},
   "outputs": [
    {
     "name": "stdout",
     "output_type": "stream",
     "text": [
      "a=246\n",
      "244 + 246 + 248 = 738\n"
     ]
    }
   ],
   "source": [
    "a = 4\n",
    "while True: \n",
    "    if(a-2 + a + a+2 == 738):\n",
    "        print(\"a=%d\"%a)\n",
    "        break\n",
    "    a = a+2\n",
    "\n",
    "print(\"%d + %d + %d = %d\"%(a-2, a, a+2, a-2 + a + a+2))"
   ]
  },
  {
   "cell_type": "code",
   "execution_count": null,
   "id": "9b411339",
   "metadata": {},
   "outputs": [],
   "source": []
  }
 ],
 "metadata": {
  "kernelspec": {
   "display_name": "Python 3 (ipykernel)",
   "language": "python",
   "name": "python3"
  },
  "language_info": {
   "codemirror_mode": {
    "name": "ipython",
    "version": 3
   },
   "file_extension": ".py",
   "mimetype": "text/x-python",
   "name": "python",
   "nbconvert_exporter": "python",
   "pygments_lexer": "ipython3",
   "version": "3.9.12"
  }
 },
 "nbformat": 4,
 "nbformat_minor": 5
}
