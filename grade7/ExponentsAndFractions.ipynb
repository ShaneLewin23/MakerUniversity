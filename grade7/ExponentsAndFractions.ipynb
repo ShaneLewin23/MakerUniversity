{
 "cells": [
  {
   "cell_type": "code",
   "execution_count": 14,
   "id": "e166ce2f",
   "metadata": {},
   "outputs": [],
   "source": [
    "import math"
   ]
  },
  {
   "cell_type": "markdown",
   "id": "6832706a",
   "metadata": {},
   "source": [
    "# Pre-Algebra Grade 7, Lesson 8: Reduce and check\n",
    "Reduce each fraction to a fraction with the lowest  common denminator, then check your results in python.  \n",
    "\n",
    "## Example\n",
    "$$f = \\left(\\frac{6}{5}\\right)^4\\cdot\\left(\\frac{10^3}{3}\\right)^2$$\n",
    "\n",
    "$$ = \\left(\\frac{6^4}{5^4}\\right)\\cdot\\left(\\frac{10^6}{3^2}\\right)$$\n",
    "\n",
    "$$ = \\left(\\frac{6^4\\cdot 10^6}{5^4\\cdot 3^2}\\right)$$"
   ]
  },
  {
   "cell_type": "markdown",
   "id": "b0a28b02",
   "metadata": {},
   "source": [
    "$$ = \\left(\\frac{3^4\\cdot2^4\\cdot5^6\\cdot2^6}{5^4\\cdot3^2}\\right)$$"
   ]
  },
  {
   "cell_type": "markdown",
   "id": "5ec06375",
   "metadata": {},
   "source": [
    "$$ = \\left(\\frac{3^2\\cdot2^4\\cdot5^2\\cdot2^6}{1}\\right)$$"
   ]
  },
  {
   "cell_type": "markdown",
   "id": "15515485",
   "metadata": {},
   "source": [
    "$$ = 3^2\\cdot 5^2 \\cdot 2^{10}$$\n",
    "\n",
    "Lets check our work:"
   ]
  },
  {
   "cell_type": "code",
   "execution_count": 13,
   "id": "e1dbd6d4",
   "metadata": {},
   "outputs": [
    {
     "data": {
      "text/plain": [
       "230399.99999999994"
      ]
     },
     "execution_count": 13,
     "metadata": {},
     "output_type": "execute_result"
    }
   ],
   "source": [
    "def eq1():\n",
    "    leftfrac = (6/5)**4\n",
    "    rightfrac = (10**3)/3\n",
    "    rightfrac = rightfrac**2\n",
    "    ans = leftfrac*rightfrac\n",
    "    return ans\n",
    "\n",
    "eq1()"
   ]
  },
  {
   "cell_type": "code",
   "execution_count": 12,
   "id": "9a0255d8",
   "metadata": {},
   "outputs": [
    {
     "data": {
      "text/plain": [
       "230400"
      ]
     },
     "execution_count": 12,
     "metadata": {},
     "output_type": "execute_result"
    }
   ],
   "source": [
    "def simplifiedeq():\n",
    "    ans = 3**2\n",
    "    ans = ans*5**2\n",
    "    ans = ans*2**10\n",
    "    return ans\n",
    "simplifiedeq()"
   ]
  },
  {
   "cell_type": "code",
   "execution_count": 16,
   "id": "1d707fad",
   "metadata": {},
   "outputs": [
    {
     "data": {
      "text/plain": [
       "5.820766091346741e-11"
      ]
     },
     "execution_count": 16,
     "metadata": {},
     "output_type": "execute_result"
    }
   ],
   "source": [
    "error = abs(eq1() - simplifiedeq())\n",
    "error"
   ]
  },
  {
   "cell_type": "markdown",
   "id": "bfb92d39",
   "metadata": {},
   "source": [
    "The error is 0.00000000005, essentially zero. Our simplification is correct. "
   ]
  },
  {
   "cell_type": "markdown",
   "id": "3e3c1cad",
   "metadata": {},
   "source": [
    "## Problems\n",
    "Solve each problem on paper and copy your results to the notebook. You need to test your solutions with a python function (as in the exmaple above) for problems 4 and 8. "
   ]
  },
  {
   "cell_type": "markdown",
   "id": "87ea1dda",
   "metadata": {},
   "source": [
    "1. $\\left(\\frac{1}{3}\\right)^4\\cdot 3^9 = $\n",
    "\n",
    "2. $\\left(\\frac{3}{4}\\right)^3\\cdot\\left(\\frac{2}{9}\\right)^2 = $\n",
    "\n",
    "3. An athlete runs $3\\frac{1}{2}$ kilommeters every $10\\frac{1}{4}$ minutes. How far does the athlete run per minute? \n",
    "4. $\\left(\\frac{5}{7^2}\\right)^3\\cdot \\left(\\frac{49}{25^2}\\right)^3 + \\frac{1}{7^3}=$\n",
    "Test your simplification by making a test function as in the example above. \n",
    "5. $3^\\cdot 3^3= $\n",
    "6. A box of paper weighs $3\\frac{2}{3}$ pounds. Each box contains 2 dozen sheets of apper. ow much does each sheet of paper weigh?\n",
    "7. the volume of a room can be calculated by multiplying lenght by width by height. If the length and height are both $2\\frac{1}{2}$ meters and the height is $6$ meters, what is the volume? \n",
    "8. $5^3 + \\left(\\frac{2}{5}\\right)^3$\n",
    "\n",
    "9. $5.4 + \\left[2+ \\left(1\\frac{1}{4}\\div \\frac{3}{4}\\right)\\right]$\n",
    "10. $\\left(\\frac{233^{12}}{194^{75}}\\right)^0 + 10^0$\n",
    "11. How many cubic meters of water can we fit in a cube shaped cooler if one side of the cooler is $\\frac{4}{5}$ of a foot? "
   ]
  },
  {
   "cell_type": "markdown",
   "id": "94fa0d7f",
   "metadata": {},
   "source": [
    "### P1: $\\left(\\frac{1}{3}\\right)^4\\cdot 3^9 = $"
   ]
  },
  {
   "cell_type": "code",
   "execution_count": null,
   "id": "162f2af4",
   "metadata": {},
   "outputs": [],
   "source": []
  },
  {
   "cell_type": "markdown",
   "id": "2b4035bb",
   "metadata": {},
   "source": [
    "### P2: $\\left(\\frac{3}{4}\\right)^3\\cdot\\left(\\frac{2}{9}\\right)^2 = $"
   ]
  },
  {
   "cell_type": "code",
   "execution_count": null,
   "id": "adda7d77",
   "metadata": {},
   "outputs": [],
   "source": []
  },
  {
   "cell_type": "markdown",
   "id": "8f2ed9e5",
   "metadata": {},
   "source": [
    "### P3: 3. An athlete runs $3\\frac{1}{2}$ kilommeters every $10\\frac{1}{4}$ minutes. How far does the athlete run per minute? "
   ]
  },
  {
   "cell_type": "code",
   "execution_count": null,
   "id": "5aadeebf",
   "metadata": {},
   "outputs": [],
   "source": []
  },
  {
   "cell_type": "markdown",
   "id": "208afa09",
   "metadata": {},
   "source": [
    "### P4: $\\left(\\frac{5}{7^2}\\right)^3\\cdot \\left(\\frac{49}{25^2}\\right)^3 + \\frac{1}{7^3}=$"
   ]
  },
  {
   "cell_type": "code",
   "execution_count": null,
   "id": "3ffdd68b",
   "metadata": {},
   "outputs": [],
   "source": []
  },
  {
   "cell_type": "markdown",
   "id": "7a3a7fef",
   "metadata": {},
   "source": [
    "### P5: $3^\\cdot 3^3= $"
   ]
  },
  {
   "cell_type": "code",
   "execution_count": null,
   "id": "925c1643",
   "metadata": {},
   "outputs": [],
   "source": []
  },
  {
   "cell_type": "markdown",
   "id": "11811321",
   "metadata": {},
   "source": [
    "### P6. A box of paper weighs $3\\frac{2}{3}$ pounds. Each box contains 2 dozen sheets of apper. ow much does each sheet of paper weigh?"
   ]
  },
  {
   "cell_type": "code",
   "execution_count": null,
   "id": "40ceaafe",
   "metadata": {},
   "outputs": [],
   "source": []
  },
  {
   "cell_type": "markdown",
   "id": "016490de",
   "metadata": {},
   "source": [
    "### P7: the volume of a room can be calculated by multiplying lenght by width by height. If the length and height are both $2\\frac{1}{2}$ meters and the height is $6$ meters, what is the volume? "
   ]
  },
  {
   "cell_type": "code",
   "execution_count": null,
   "id": "0bbb34b0",
   "metadata": {},
   "outputs": [],
   "source": []
  },
  {
   "cell_type": "markdown",
   "id": "e907056f",
   "metadata": {},
   "source": [
    "### P8: $5^3 + \\left(\\frac{2}{5}\\right)^3 = $"
   ]
  },
  {
   "cell_type": "code",
   "execution_count": null,
   "id": "3042e0fa",
   "metadata": {},
   "outputs": [],
   "source": []
  },
  {
   "cell_type": "markdown",
   "id": "19b94348",
   "metadata": {},
   "source": [
    "### P9:  $5.4 + \\left[2+ \\left(1\\frac{1}{4}\\div \\frac{3}{4}\\right)\\right] = $"
   ]
  },
  {
   "cell_type": "code",
   "execution_count": null,
   "id": "55121f20",
   "metadata": {},
   "outputs": [],
   "source": []
  },
  {
   "cell_type": "markdown",
   "id": "84a92bf0",
   "metadata": {},
   "source": [
    "### P10: $\\left(\\frac{233^{12}}{194^{75}}\\right)^0 + 10^0 = $"
   ]
  },
  {
   "cell_type": "code",
   "execution_count": null,
   "id": "a05e203e",
   "metadata": {},
   "outputs": [],
   "source": []
  },
  {
   "cell_type": "markdown",
   "id": "f40406fd",
   "metadata": {},
   "source": [
    "### P11: How many cubic meters of water can we fit in a cube shaped cooler if one side of the cooler is $\\frac{4}{5}$ of a foot? "
   ]
  },
  {
   "cell_type": "code",
   "execution_count": null,
   "id": "01008832",
   "metadata": {},
   "outputs": [],
   "source": []
  }
 ],
 "metadata": {
  "kernelspec": {
   "display_name": "Python 3 (ipykernel)",
   "language": "python",
   "name": "python3"
  },
  "language_info": {
   "codemirror_mode": {
    "name": "ipython",
    "version": 3
   },
   "file_extension": ".py",
   "mimetype": "text/x-python",
   "name": "python",
   "nbconvert_exporter": "python",
   "pygments_lexer": "ipython3",
   "version": "3.9.12"
  }
 },
 "nbformat": 4,
 "nbformat_minor": 5
}
