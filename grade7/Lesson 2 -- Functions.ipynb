{
 "cells": [
  {
   "cell_type": "code",
   "execution_count": 2,
   "id": "bfe3296a",
   "metadata": {},
   "outputs": [],
   "source": [
    "import numpy as np\n",
    "import matplotlib.pyplot as plt"
   ]
  },
  {
   "cell_type": "markdown",
   "id": "76d9bc8a",
   "metadata": {},
   "source": [
    "# Lesson 2: Functions (Step 2/5 to solve Unsolvable Problems)\n",
    "You read that correctly. By the 5th less lesson of our 5th-7th grade intro to math in python class we're going to solve unsolvable problems. Not specifically problems that *cannot* be solved, but problems that no reasonable teacher of 7th grade math would expect their students to solve. In fact, you're going to solve problems that students in college math cant solve most of the time, and even one that appeared on a final exam in a PhD program in Computational Mathematics program at Stanford University. \n",
    "To be fair to undergraduate calculus students, they're learning how to solve them *exactly*. That would require hairy mathematics that you wont get to until late in college. But right now you'll be learning how to approximate them to be close enough to the exact answer as to be good enough in 99.9% of situations. Welcome to hacker mathematics.   \n",
    "\n",
    "But before we can solve unsolvable problems we're going to have to learn about functions. This is aboslutely critical on your path to being a proper math hacker.   \n",
    "\n",
    "## What is a function in mathematics? \n",
    "Suppose you are given an allowance of \\\\$20 per month, and you save your allowance each month in box under your bed. The amount of money you have is what we call a function of time. At zero months, you have \\\\$0. At one month you have \\\\$20. What if I asked you how much money you had at 625 months? It would be $625\\cdot \\$20 = \\$12,500$. In this case your total savings is a *function of months*, which means that how much money you have depends on the number of months that you've been saving. \n",
    "\n",
    "Make sure you understand the sentence above before you go futher.  Read it a few times, ask your dad, whatever. But its important to know what we mean when we say something is a function of something else.\n",
    "\n",
    "Couple more examples: \n",
    "* The wrinkles on someones face is a function of time. As time increases, the wrinkles increase.\n",
    "* Height of a person is a function of time. As time increases from birth, height increases for a while (up until about year 18), then stays the same for about 50 years, then it goes down a bit).  \n",
    "* Average height can be viewed as a function of location. The average height in san francisco is not the same as the average height in dallas. Side note: why might this be true?\n",
    "* Winning percentage in fortnight is a function of the number of hours played in fortnight. It starts low, goes up for a bit, then goes up slowly as hours increase. \n",
    "* Winning percentage in fortnight is also a function of age. It goes up a bit until you get to about age 15, then goes down as age increases (why?).  \n",
    "\n",
    "Again, make sure you understand each of the above before you go on. We say X is a function of Y meaning that we care about X depending on what happens with Y. Try to come up with your own functions. \n",
    "\n",
    "## Functions in python\n",
    "In python, we define functions in the same way as we did above, but we use the word def (which just means define, but we're always lazy in programming so we have to shorten it to def).\n",
    "\n",
    "Lets define a function for our allowance over time. "
   ]
  },
  {
   "cell_type": "code",
   "execution_count": 3,
   "id": "c0e2b4d8",
   "metadata": {},
   "outputs": [],
   "source": [
    "def total_earned_allowance(months):\n",
    "    return months*20"
   ]
  },
  {
   "cell_type": "markdown",
   "id": "e9d5d735",
   "metadata": {},
   "source": [
    "What we defined is allowance is a function of months. We started with defining the function:\n",
    "<code> def total_earned_allowance(months):</code>\n",
    "You start with <code>def</code> to tell the computer that its a function\n",
    "Then name the function (</code>total_earned_allowance </code>\n",
    "Then say what it is a function of in the parentheses (<code>months</code>)\n",
    "\n",
    "Finally, there's the <code>return</code> line. This is what the function returns, the amount of money we have after a number of months. In our function we're returning the months $\\times$ \\\\$20, because our allowance is \\\\$20 per month. \n",
    "\n",
    "Lets see how to use this function. I'm going to call the function to find out how much money I have as a function of months. "
   ]
  },
  {
   "cell_type": "code",
   "execution_count": 4,
   "id": "adf9462a",
   "metadata": {},
   "outputs": [
    {
     "name": "stdout",
     "output_type": "stream",
     "text": [
      "60\n",
      "500\n",
      "6868680\n"
     ]
    }
   ],
   "source": [
    "print(total_earned_allowance(months=3))\n",
    "print(total_earned_allowance(months=25))\n",
    "print(total_earned_allowance(months=343434))"
   ]
  },
  {
   "cell_type": "markdown",
   "id": "3f4fdfe7",
   "metadata": {},
   "source": [
    "Do you see what I did? I asked python to print the total amount of money I'd have after 3 months, 25 months, and 343,434 months and we got a few numbers.  Lets make sure you understand this.\n",
    "BTW, you dont have to write months=x\n",
    "\n",
    "### Excercise 1: Write a program that outputs your allowance as a function of months if you get \\\\$20 per month\n",
    "You need to name your function new_allowance for the check line to work. "
   ]
  },
  {
   "cell_type": "code",
   "execution_count": null,
   "id": "b9f397ef",
   "metadata": {},
   "outputs": [],
   "source": []
  },
  {
   "cell_type": "code",
   "execution_count": 5,
   "id": "9ba62513",
   "metadata": {},
   "outputs": [
    {
     "ename": "NameError",
     "evalue": "name 'new_allowance' is not defined",
     "output_type": "error",
     "traceback": [
      "\u001b[0;31m---------------------------------------------------------------------------\u001b[0m",
      "\u001b[0;31mNameError\u001b[0m                                 Traceback (most recent call last)",
      "\u001b[0;32m<ipython-input-5-43c53cb43037>\u001b[0m in \u001b[0;36m<module>\u001b[0;34m\u001b[0m\n\u001b[1;32m      1\u001b[0m \u001b[0;31m# check your work #\u001b[0m\u001b[0;34m\u001b[0m\u001b[0;34m\u001b[0m\u001b[0;34m\u001b[0m\u001b[0m\n\u001b[0;32m----> 2\u001b[0;31m \u001b[0;32mif\u001b[0m \u001b[0mnew_allowance\u001b[0m\u001b[0;34m(\u001b[0m\u001b[0;36m23\u001b[0m\u001b[0;34m)\u001b[0m \u001b[0;34m==\u001b[0m \u001b[0;36m20\u001b[0m\u001b[0;34m*\u001b[0m\u001b[0;36m23\u001b[0m\u001b[0;34m:\u001b[0m\u001b[0;34m\u001b[0m\u001b[0;34m\u001b[0m\u001b[0m\n\u001b[0m\u001b[1;32m      3\u001b[0m     \u001b[0mprint\u001b[0m\u001b[0;34m(\u001b[0m\u001b[0;34m\"Your function is correct\"\u001b[0m\u001b[0;34m)\u001b[0m\u001b[0;34m\u001b[0m\u001b[0;34m\u001b[0m\u001b[0m\n\u001b[1;32m      4\u001b[0m \u001b[0;32melse\u001b[0m\u001b[0;34m:\u001b[0m\u001b[0;34m\u001b[0m\u001b[0;34m\u001b[0m\u001b[0m\n\u001b[1;32m      5\u001b[0m     \u001b[0mprint\u001b[0m\u001b[0;34m(\u001b[0m\u001b[0;34m\"your function is incorrect. Keep working on it.\"\u001b[0m\u001b[0;34m)\u001b[0m\u001b[0;34m\u001b[0m\u001b[0;34m\u001b[0m\u001b[0m\n",
      "\u001b[0;31mNameError\u001b[0m: name 'new_allowance' is not defined"
     ]
    }
   ],
   "source": [
    "# check your work #\n",
    "if new_allowance(23) == 20*23:\n",
    "    print(\"Your function is correct\")\n",
    "else:\n",
    "    print(\"your function is incorrect. Keep working on it.\")"
   ]
  },
  {
   "cell_type": "markdown",
   "id": "8d6f68b4",
   "metadata": {},
   "source": [
    "Functions can get as complicated as you want. For example, suppose that, instead of putting your money under the bed, you invested it in a stock account that earned 1% interest per month. \n",
    "So how would that work? Well, in the first month, you'd have \\\\$20 because that was your allowance. In the second month, you'd have another \\\\$20, so your total is \\\\$40. But you've also earned interest on the \\\\$20 you already had in savings. To calucate 1% interest, you have to multiply the amount of money you have in savings by 1%, or 0.01 in decimal notation. So the amount of money you earned in interest is $\\$20*0.01 = \\$0.20$ -- 20 cents. \n",
    "that means your total amount of money is \\\\$40.20 -- \\\\$40 from allowance and 20 cents from interest.\n",
    "\n",
    "Next month we'll also get \\\\$20 in allowance, but when we earn interest, we'll earn interest on the *total* amount of money we've saved, in this case \\\\$40.20. So our new interest is $\\$40.20*0.01 = 0.402$, or about 40 cents. To calulate the total money its the money we previously had, plus the new allowance, plus the interest, which amounts to: *interest + savings + new_allowance = total_money*. So we have: \n",
    "$$ 0.402 + 40.20 + 20 = 60.602 $$.\n",
    "\n",
    "But how do we make this function? Every single month the total interest we earn depends on the amount of money we have. So to calucate our total savings we'll have to keep track of all the money we have, calucate the interest on that each month, and find the new total. Lets look at this function. "
   ]
  },
  {
   "cell_type": "code",
   "execution_count": 6,
   "id": "ff3f5461",
   "metadata": {},
   "outputs": [
    {
     "name": "stdout",
     "output_type": "stream",
     "text": [
      "Total savings without interest after 100 monhts: $2000.000000\n",
      "Total savings with interest after 100 months: 6819.255318\n"
     ]
    }
   ],
   "source": [
    "def allowance_with_interest(months):\n",
    "    total_savings = 0\n",
    "    \n",
    "    # for each month\n",
    "    for i in range(months):\n",
    "        # add the interest to the total savings\n",
    "        total_savings += total_savings*0.01\n",
    "        \n",
    "        # Add the allowance \n",
    "        total_savings += 20.0\n",
    "        \n",
    "        # add the allowance to the total savings\n",
    "        total_savings += 20\n",
    "    \n",
    "    return total_savings\n",
    "\n",
    "print(\"Total savings without interest after 100 monhts: $%f\"%total_earned_allowance(100))\n",
    "print(\"Total savings with interest after 100 months: %f\"%allowance_with_interest(100))"
   ]
  },
  {
   "cell_type": "markdown",
   "id": "ee34c6df",
   "metadata": {},
   "source": [
    "Lets break apart this function. The notation <code>allowance_with_interest(months)</code> means allowance_with_interest is a function of months -- e.g. if you pass a set of months into it you'll get your allowance back. So if we wnated to know our allowance after 23 months, we'd do:"
   ]
  },
  {
   "cell_type": "code",
   "execution_count": 8,
   "id": "9964c85e",
   "metadata": {},
   "outputs": [
    {
     "data": {
      "text/plain": [
       "1028.6520733937205"
      ]
     },
     "execution_count": 8,
     "metadata": {},
     "output_type": "execute_result"
    }
   ],
   "source": [
    "allowance_with_interest(23)"
   ]
  },
  {
   "cell_type": "markdown",
   "id": "d54a507a",
   "metadata": {},
   "source": [
    "The function starts off with a for loop. The function range(months) is a list of numbers starting with zero and ending with months-1. E.G."
   ]
  },
  {
   "cell_type": "code",
   "execution_count": 10,
   "id": "763ef41b",
   "metadata": {},
   "outputs": [
    {
     "name": "stdout",
     "output_type": "stream",
     "text": [
      "0\n",
      "1\n",
      "2\n",
      "3\n",
      "4\n",
      "5\n",
      "6\n",
      "7\n",
      "8\n",
      "9\n"
     ]
    }
   ],
   "source": [
    "for i in range(10): print(i)"
   ]
  },
  {
   "cell_type": "markdown",
   "id": "74af1f3a",
   "metadata": {},
   "source": [
    "So the function starts off setting your allowance at 0 (toal_savings=0). Then for every month it does the following: \n",
    "1. Calculate the interst by multipling total savings by 0.01\n",
    "2. Add the interest to the total savings\n",
    "3. Add the allowance. \n",
    "\n",
    "In the end it returns total_savings by using the command <code>return total_savings</code>.\n",
    "In the homework, you'll learn how to use and make your own functions. Note that if you havent run the above cells it wont work.  "
   ]
  },
  {
   "cell_type": "markdown",
   "id": "4c77f913",
   "metadata": {},
   "source": [
    "### Problem 2: Find your total savings after 5 years with and without interest, using the above functions"
   ]
  },
  {
   "cell_type": "code",
   "execution_count": null,
   "id": "c944d324",
   "metadata": {},
   "outputs": [],
   "source": []
  },
  {
   "cell_type": "markdown",
   "id": "2153addd",
   "metadata": {},
   "source": [
    "### Problem 3: Find your total savings, using the functions above, with and without interest if you saved for 200 months, then compare it to the savings if you had no interest. "
   ]
  },
  {
   "cell_type": "code",
   "execution_count": null,
   "id": "414abadb",
   "metadata": {},
   "outputs": [],
   "source": []
  },
  {
   "cell_type": "markdown",
   "id": "d9aea09e",
   "metadata": {},
   "source": [
    "### Problem 4: Rewrite the function above to find your savings if you had an interest rate of %2 per month"
   ]
  },
  {
   "cell_type": "code",
   "execution_count": null,
   "id": "44b8ba6f",
   "metadata": {},
   "outputs": [],
   "source": []
  },
  {
   "cell_type": "markdown",
   "id": "a4c9f477",
   "metadata": {},
   "source": [
    "### Problem 5: Rewrite the function above to find your savings with and without interest, but instead of 1% per month, find it for 5% per year."
   ]
  },
  {
   "cell_type": "code",
   "execution_count": null,
   "id": "bcb305c5",
   "metadata": {},
   "outputs": [],
   "source": []
  },
  {
   "cell_type": "markdown",
   "id": "758f89cf",
   "metadata": {},
   "source": [
    "### Problem 6 (hard): Find how many months it takes to get to $1M dollars at 5% per year. "
   ]
  },
  {
   "cell_type": "markdown",
   "id": "c357843e",
   "metadata": {},
   "source": []
  },
  {
   "cell_type": "markdown",
   "id": "6652a383",
   "metadata": {},
   "source": [
    "### Problem 7 (hard): Find the interest rate required to get to $1M dollars in 20 years.  "
   ]
  },
  {
   "cell_type": "code",
   "execution_count": null,
   "id": "9ebff854",
   "metadata": {},
   "outputs": [],
   "source": []
  }
 ],
 "metadata": {
  "kernelspec": {
   "display_name": "Python 3",
   "language": "python",
   "name": "python3"
  },
  "language_info": {
   "codemirror_mode": {
    "name": "ipython",
    "version": 3
   },
   "file_extension": ".py",
   "mimetype": "text/x-python",
   "name": "python",
   "nbconvert_exporter": "python",
   "pygments_lexer": "ipython3",
   "version": "3.8.8"
  }
 },
 "nbformat": 4,
 "nbformat_minor": 5
}
