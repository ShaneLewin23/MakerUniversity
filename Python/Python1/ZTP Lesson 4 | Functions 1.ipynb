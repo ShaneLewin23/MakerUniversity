{
 "cells": [
  {
   "cell_type": "code",
   "execution_count": 5,
   "id": "b28f1997",
   "metadata": {},
   "outputs": [],
   "source": [
    "import numpy as np\n",
    "import matplotlib.pyplot as plt"
   ]
  },
  {
   "cell_type": "markdown",
   "id": "1f753120",
   "metadata": {},
   "source": [
    "# ZTP Lesson 4: Functions \n",
    "By the 5th lesson of our 5th-7th grade intro to math in python class we're going to solve unsolvable problems. You heard that right: unsolvable. Not specifically problems that *cannot* be solved, but problems that no reasonable teacher of 7th grade math would expect their students to solve. In fact, you're going to solve problems that students in college math cant solve most of the time, and even one that appeared on a final exam in a PhD program in Computational Mathematics program at Stanford University. \n",
    "To be fair to undergraduate calculus students, they're learning how to solve them *exactly*. That would require hairy mathematics that you wont get to until late in college. But right now you'll be learning how to approximate them to be close enough to the exact answer as to be good enough in 99.9% of situations. Welcome to hacker mathematics.   \n",
    "\n",
    "But before we can solve unsolvable problems we're going to have to learn about functions. This is aboslutely critical on your path to being a proper math hacker.   \n",
    "\n",
    "## What is a function in mathematics? \n",
    "Suppose you are given an allowance of \\\\$20 per month, and you save your allowance each month in box under your bed. The amount of money you have is what we call a function of time. At zero months, you have \\\\$0. At one month you have \\\\$20. What if I asked you how much money you had at 625 months? It would be $625\\cdot \\$20 = \\$12,500$. In this case your total savings is a *function of months*, which means that how much money you have depends on the number of months that you've been saving. \n",
    "\n",
    "Make sure you understand the sentence above before you go futher.  Read it a few times, ask your dad and mom. Its  important to know what we mean when we say something is a function of something else to understand the rest of this unit.\n",
    "\n",
    "Couple more examples: \n",
    "* The wrinkles on someones face is a function of time. As time increases, the wrinkles increase.\n",
    "* Height of a person is a function of time. As time increases from birth, height increases for a while (up until about year 18), then stays the same for about 50 years, then it goes down a as you age).  \n",
    "* Average height can be viewed as a function of location. The average height in san francisco is not the same as the average height in Sudan. Side note: why might this be true?\n",
    "* Winning percentage in fortnight is a function of the number of hours played in fortnight. It starts low, goes up for a bit, then goes up slowly as hours increase. \n",
    "* Average winning percentage in fortnight is also a function of age. It goes up a bit until you get to about age 15, then goes down as age increases (why?).  \n",
    "\n",
    "Again, make sure you understand each of the above before you go on. We say X is a function of Y meaning that we are interested in what X is depending on what happens with Y. Try to come up with your own functions. \n",
    "\n",
    "## Functions in python\n",
    "In python, we define functions in the same way as we did above, but we use the word def (which just means define, but we're always lazy in programming so we have to shorten it to def).\n",
    "\n",
    "Lets define a function for our allowance over time. "
   ]
  },
  {
   "cell_type": "code",
   "execution_count": 14,
   "id": "610d4418",
   "metadata": {},
   "outputs": [],
   "source": [
    "def total_earned_allowance(months):\n",
    "    return months*20"
   ]
  },
  {
   "cell_type": "markdown",
   "id": "9bd87d1a",
   "metadata": {},
   "source": [
    "What we defined is allowance as a function of months. We started with defining the function:\n",
    "\n",
    "<code> def total_earned_allowance(months):</code>\n",
    "\n",
    "You start with <code>def</code> to tell the computer that its a function\n",
    "Then name the function (</code>total_earned_allowance </code>\n",
    "Then say what it is a function of in the parentheses (<code>months</code>)\n",
    "\n",
    "Finally, there's the <code>return</code> line. This is what the function returns, the amount of money we have after a number of months. In our function we're returning the months $\\times$ \\\\$20, because our allowance is \\\\$20 per month. \n",
    "\n",
    "Lets see how to use this function. I'm going to call the function to find out how much money I have as a function of months. "
   ]
  },
  {
   "cell_type": "code",
   "execution_count": 8,
   "id": "7642bbba",
   "metadata": {},
   "outputs": [
    {
     "name": "stdout",
     "output_type": "stream",
     "text": [
      "60\n",
      "500\n",
      "6868680\n"
     ]
    }
   ],
   "source": [
    "print(total_earned_allowance(months=3))\n",
    "print(total_earned_allowance(months=25))\n",
    "print(total_earned_allowance(months=343434))"
   ]
  },
  {
   "cell_type": "markdown",
   "id": "d15f4b5f",
   "metadata": {},
   "source": [
    "Do you see what I did? I asked python to print the total amount of money I'd have after 3 months, 25 months, and 343,434 months and we got a few numbers.  Lets make sure you understand this.\n",
    "BTW, you dont have to write months=x, you could simply write <code>total_earned_allowance(3)</code>, but its good form to use the <code>variables=X</code> notation as it will make your code much easier to read later.\n",
    "\n",
    "### Excercise 1: Write a program that outputs your allowance as a function of months if you get \\\\$20 per month\n",
    "You need to name your function new_allowance for the check line to work. "
   ]
  },
  {
   "cell_type": "code",
   "execution_count": null,
   "id": "4e93288b",
   "metadata": {},
   "outputs": [],
   "source": []
  },
  {
   "cell_type": "code",
   "execution_count": 10,
   "id": "e4f7a25f",
   "metadata": {},
   "outputs": [
    {
     "ename": "NameError",
     "evalue": "name 'new_allowance' is not defined",
     "output_type": "error",
     "traceback": [
      "\u001b[0;31m---------------------------------------------------------------------------\u001b[0m",
      "\u001b[0;31mNameError\u001b[0m                                 Traceback (most recent call last)",
      "Input \u001b[0;32mIn [10]\u001b[0m, in \u001b[0;36m<cell line: 2>\u001b[0;34m()\u001b[0m\n\u001b[1;32m      1\u001b[0m \u001b[38;5;66;03m# check your work #\u001b[39;00m\n\u001b[0;32m----> 2\u001b[0m \u001b[38;5;28;01mif\u001b[39;00m \u001b[43mnew_allowance\u001b[49m(\u001b[38;5;241m23\u001b[39m) \u001b[38;5;241m==\u001b[39m \u001b[38;5;241m20\u001b[39m\u001b[38;5;241m*\u001b[39m\u001b[38;5;241m23\u001b[39m:\n\u001b[1;32m      3\u001b[0m     \u001b[38;5;28mprint\u001b[39m(\u001b[38;5;124m\"\u001b[39m\u001b[38;5;124mYour function is correct\u001b[39m\u001b[38;5;124m\"\u001b[39m)\n\u001b[1;32m      4\u001b[0m \u001b[38;5;28;01melse\u001b[39;00m:\n",
      "\u001b[0;31mNameError\u001b[0m: name 'new_allowance' is not defined"
     ]
    }
   ],
   "source": [
    "# check your work -- when you type shift-enter, this should tell you your function is correct. #\n",
    "if new_allowance(23) == 20*23:\n",
    "    print(\"Your function is correct\")\n",
    "else:\n",
    "    print(\"your function is incorrect. Keep working on it.\")"
   ]
  },
  {
   "cell_type": "markdown",
   "id": "6a83cfe4",
   "metadata": {},
   "source": [
    "Functions can get as complicated as you want. For example, suppose that, instead of putting your money under the bed, you invested it in a stock account that earned 1% interest per month. \n",
    "So how would that work? Well, in the first month, you'd have \\\\$20 because that was your allowance. In the second month, you'd have another \\\\$20, so your total is \\\\$40. But you've also earned interest on the \\\\$20 you already had in savings. To calucate 1% interest, you have to multiply the amount of money you have in savings by 1%, or 0.01 in decimal notation. So the amount of money you earned in interest is $\\$20*0.01 = \\$0.20$ -- 20 cents. \n",
    "that means your total amount of money is \\\\$40.20 -- \\\\$40 from allowance and 20 cents from interest.\n",
    "\n",
    "Next month we'll also get \\\\$20 in allowance, but when we earn interest, we'll earn interest on the *total* amount of money we've saved, in this case \\\\$40.20. So our new interest is $\\$40.20*0.01 = 0.402$, or about 40 cents. To calulate the total money its the money we previously had, plus the new allowance, plus the interest, which amounts to: *interest + savings + new_allowance = total_money*. So we have: \n",
    "$$ 0.402 + 40.20 + 20 = 60.602 $$.\n",
    "\n",
    "But how do we make this function? Every single month the total interest we earn depends on the amount of money we have. So to calucate our total savings we'll have to keep track of all the money we have, calucate the interest on that each month, and find the new total. Lets look at this function. "
   ]
  },
  {
   "cell_type": "code",
   "execution_count": 19,
   "id": "fb77bb16",
   "metadata": {},
   "outputs": [
    {
     "name": "stdout",
     "output_type": "stream",
     "text": [
      "Total savings without interest after 100 monhts: $2000.000000\n",
      "Total savings with interest after 100 months: 6819.255318\n"
     ]
    }
   ],
   "source": [
    "def allowance_with_interest(months):\n",
    "    total_savings = 0\n",
    "    \n",
    "    # for each month\n",
    "    for i in range(months):\n",
    "        # add the interest to the total savings\n",
    "        total_savings += total_savings*0.01\n",
    "        \n",
    "        # Add the allowance \n",
    "        total_savings += 20.0\n",
    "        \n",
    "        # add the allowance to the total savings\n",
    "        total_savings += 20\n",
    "    \n",
    "    return total_savings\n",
    "\n",
    "print(\"Total savings without interest after 100 monhts: $%f\"%total_earned_allowance(100))\n",
    "print(\"Total savings with interest after 100 months: %f\"%allowance_with_interest(100))"
   ]
  },
  {
   "cell_type": "markdown",
   "id": "5e509a45",
   "metadata": {},
   "source": [
    "There's a few new things going on in that function. First, there's a for loop. You've seen loops in Scratch or other languages, you know the basic idea, but python syntax is a little different. \n",
    "First you have a statement <code>for i in range(months)</code>. the range() function creates a list of numbers starting at 0 and ending at whatever number months is. The first line goes through every item in the range setting i to that value. for example: "
   ]
  },
  {
   "cell_type": "code",
   "execution_count": 22,
   "id": "283e3d93",
   "metadata": {},
   "outputs": [
    {
     "name": "stdout",
     "output_type": "stream",
     "text": [
      "0\n",
      "1\n",
      "2\n",
      "3\n",
      "4\n",
      "5\n",
      "6\n",
      "7\n",
      "8\n",
      "9\n"
     ]
    }
   ],
   "source": [
    "for i in range(10): print(i)"
   ]
  },
  {
   "cell_type": "code",
   "execution_count": null,
   "id": "275928ed",
   "metadata": {},
   "outputs": [],
   "source": []
  },
  {
   "cell_type": "markdown",
   "id": "2fa9861d",
   "metadata": {},
   "source": [
    "### Problem 2: Find your total savings, using the functions above, with and without interest if you saved for 200 months"
   ]
  },
  {
   "cell_type": "markdown",
   "id": "d75bbae5",
   "metadata": {},
   "source": []
  },
  {
   "cell_type": "code",
   "execution_count": null,
   "id": "33208257",
   "metadata": {},
   "outputs": [],
   "source": []
  },
  {
   "cell_type": "markdown",
   "id": "830a2b71",
   "metadata": {},
   "source": [
    "### Problem 3: Rewrite the function above to find your savings if you had an interest rate of %2 per month"
   ]
  },
  {
   "cell_type": "code",
   "execution_count": null,
   "id": "382f452b",
   "metadata": {},
   "outputs": [],
   "source": []
  },
  {
   "cell_type": "markdown",
   "id": "dbcef0c3",
   "metadata": {},
   "source": [
    "### Problem 4: Rewrite the function above to find your savings with and without interest, but instead of 1% per month, find it for 5% per year."
   ]
  },
  {
   "cell_type": "code",
   "execution_count": null,
   "id": "a3048550",
   "metadata": {},
   "outputs": [],
   "source": []
  },
  {
   "cell_type": "markdown",
   "id": "c61c61ca",
   "metadata": {},
   "source": [
    "### Problem 5 (hard): Find how many months it takes to get to $1M dollars at 5% per year. "
   ]
  },
  {
   "cell_type": "markdown",
   "id": "dd45eb2d",
   "metadata": {},
   "source": []
  },
  {
   "cell_type": "markdown",
   "id": "bae5c1f4",
   "metadata": {},
   "source": [
    "### Problem 6 (hard): Find the interest rate required to get to $1M dollars in 20 years.  "
   ]
  },
  {
   "cell_type": "markdown",
   "id": "33e760d7",
   "metadata": {},
   "source": [
    "## Harder functions\n",
    "Nice work. Functions are foundations of good software and you've taken a huge step in writing your first functions. So lets get a little more interesting and use some of the things you've used in the past. \n",
    "\n",
    "#### This is supposed to take a little while. Dont worry if it takes a few days. You should have a line testing your function when you're done. \n",
    "\n",
    "\n",
    "## Problem 6: Write a function that finds the length of a string \n",
    "#### Test it when you're done. Dont use len() or other builtin functions"
   ]
  },
  {
   "cell_type": "code",
   "execution_count": null,
   "id": "3cb139b2",
   "metadata": {},
   "outputs": [],
   "source": [
    "# your code here"
   ]
  },
  {
   "cell_type": "code",
   "execution_count": null,
   "id": "875c7693",
   "metadata": {},
   "outputs": [],
   "source": [
    "# write a test code here that tests the output of a function"
   ]
  },
  {
   "cell_type": "markdown",
   "id": "c1e55576",
   "metadata": {},
   "source": [
    "## Problem 8: Write a function that finds the average of all the numbers in any list of numbers \n",
    "The average is found by adding up all the numbers and then dividing by the list. For example, if your list is <code> [1,12,11,3,-2] </code> the average is\n",
    "\n",
    "$$ \\text{average} = \\frac{1 + 12 + 11 + 3 + -2}{5} $$\n",
    "   "
   ]
  },
  {
   "cell_type": "code",
   "execution_count": null,
   "id": "15a30d28",
   "metadata": {},
   "outputs": [],
   "source": [
    "# your code here"
   ]
  },
  {
   "cell_type": "code",
   "execution_count": null,
   "id": "9be6cd11",
   "metadata": {},
   "outputs": [],
   "source": [
    "# test code here"
   ]
  },
  {
   "cell_type": "markdown",
   "id": "d94dc9b4",
   "metadata": {},
   "source": [
    "## Problem 9: Write a function to reverse a string. \n",
    "E.g. \"puppy wuppy\" bcomes \"yppuw yppup\""
   ]
  },
  {
   "cell_type": "code",
   "execution_count": 1,
   "id": "5182b019",
   "metadata": {},
   "outputs": [],
   "source": [
    "# your code here"
   ]
  },
  {
   "cell_type": "code",
   "execution_count": 2,
   "id": "2c579457",
   "metadata": {},
   "outputs": [],
   "source": [
    "# your tests here"
   ]
  },
  {
   "cell_type": "markdown",
   "id": "52679810",
   "metadata": {},
   "source": [
    "## Problem 10: Your college vacation\n",
    "Your job in this homework assignment is to figure out what amount of money you need to save \n",
    "\n",
    "Write a function that accepts three variables -- your age, the amount of money you are going to save every month from here until you are 18, and how much money you have today -- and lets you know what vactions you can take on your 18th birthday. \n",
    "\n",
    "Assume the following: \n",
    "Vacation to McDonalds: $13.00\n",
    "\n",
    "Vacation to Seattle for the night: $$200\n",
    "\n",
    "Vacation to Whistler with a bike or ski tweekend: $1000\n",
    "\n",
    "Mexico on the beach: $1200\n",
    "\n",
    "Europe (one country): $2000\n",
    "\n",
    "Europe (4 countries): $4000\n",
    "\n",
    "Epic trip to south america: $3200\n",
    "\n",
    "Australia: $3300\n",
    "\n",
    "Australia, New Zealand, and Thailand: $6000\n",
    "\n",
    "African Safari: $6000\n",
    "\n",
    "Travel The world for a year: $20,000\n",
    "\n",
    "Your function should print how much you've saved and what vacations you will be able to go on. \n"
   ]
  },
  {
   "cell_type": "code",
   "execution_count": null,
   "id": "0f3d6b7f",
   "metadata": {},
   "outputs": [],
   "source": [
    "# your code here"
   ]
  },
  {
   "cell_type": "code",
   "execution_count": 3,
   "id": "96159ce1",
   "metadata": {},
   "outputs": [],
   "source": [
    "# test a few vacation strategies here"
   ]
  },
  {
   "cell_type": "markdown",
   "id": "b3dd41e1",
   "metadata": {},
   "source": [
    "## Extra Credit: lets plot some data\n",
    "We're going to do a whole load of plotting in a future lesson, so you can skip this if you want. But wouldnt it be more fun to see a plot of how much money you have over time depending on how much you save? Hell yeah it would. \n",
    "\n",
    "If you look up you'll see that we've got curious little import function: <code> import matplotlib.pyplot as plt </code>\n",
    "\n",
    "This fun little import lets you use a graphical library called pyplot thats part of another library called matplotlib, but thats too long to type so we said <code> as plt</code> so we only have to type plt. Dopezilla.\n",
    "\n",
    "To plot something you just need to type plot(x,y), where x is a list of numbers and y is a list of numbers. For example: \n",
    "\n",
    "##### (note: make sure you've run the top cell or the notebook wont have pyplot!)"
   ]
  },
  {
   "cell_type": "code",
   "execution_count": 6,
   "id": "d13d084d",
   "metadata": {},
   "outputs": [
    {
     "data": {
      "text/plain": [
       "[<matplotlib.lines.Line2D at 0x7fd2598b9b20>]"
      ]
     },
     "execution_count": 6,
     "metadata": {},
     "output_type": "execute_result"
    },
    {
     "data": {
      "image/png": "[encoded data removed]",
      "text/plain": [
       "<Figure size 432x288 with 1 Axes>"
      ]
     },
     "metadata": {
      "needs_background": "light"
     },
     "output_type": "display_data"
    }
   ],
   "source": [
    "x = [1,2,3,4,5]\n",
    "y = [1,10,100,1000,10000]\n",
    "plt.plot(x,y)"
   ]
  },
  {
   "cell_type": "markdown",
   "id": "0c516184",
   "metadata": {},
   "source": [
    "Easy as $\\pi$! We should probably put axes and a title on it. We can do that by adding a few things before we tell it to plot."
   ]
  },
  {
   "cell_type": "code",
   "execution_count": 8,
   "id": "b2cd231f",
   "metadata": {},
   "outputs": [
    {
     "data": {
      "text/plain": [
       "[<matplotlib.lines.Line2D at 0x7fd27a9bcc70>]"
      ]
     },
     "execution_count": 8,
     "metadata": {},
     "output_type": "execute_result"
    },
    {
     "data": {
      "image/png": "[encoded data removed]",
      "text/plain": [
       "<Figure size 432x288 with 1 Axes>"
      ]
     },
     "metadata": {
      "needs_background": "light"
     },
     "output_type": "display_data"
    }
   ],
   "source": [
    "plt.title(\"this is a plot of some numbers\")\n",
    "plt.xlabel(\"numbers getting bigger slowly\")\n",
    "plt.ylabel(\"numbers getting bigger quickly\")\n",
    "plt.plot(x,y)"
   ]
  },
  {
   "cell_type": "markdown",
   "id": "27d26968",
   "metadata": {},
   "source": [
    "Matplotlib is a very powerful library and you can make all kinds of cool plots with it, but thats a different lecture. For now, your goal is to make a plot that shows your total savings over time depending on how much you savea and how much you start with. \n",
    "\n",
    "For example, a guy who saves 1 cent per year: "
   ]
  },
  {
   "cell_type": "code",
   "execution_count": 11,
   "id": "51099cd0",
   "metadata": {},
   "outputs": [
    {
     "data": {
      "image/png": "[encoded data removed]",
      "text/plain": [
       "<Figure size 432x288 with 1 Axes>"
      ]
     },
     "metadata": {
      "needs_background": "light"
     },
     "output_type": "display_data"
    }
   ],
   "source": [
    "def plot_total_savings(starting_money, savings, years):\n",
    "    \n",
    "    n_months = years*12\n",
    "    months = [] \n",
    "    money = []\n",
    "    months.append(0)\n",
    "    money.append(starting_money)\n",
    "    \n",
    "    total_money = starting_money\n",
    "    for i in range(n_months):\n",
    "        months.append(i)\n",
    "        total_money += savings\n",
    "        money.append(total_money)\n",
    "    \n",
    "    plt.title(\"total money over time\")\n",
    "    plt.xlabel(\"months I've been saving\")\n",
    "    plt.ylabel(\"money I have saved\")\n",
    "    plt.plot(months, money)\n",
    "\n",
    "plot_total_savings(starting_money=500, savings=.01, years=10)\n",
    "    \n",
    "    \n",
    "    "
   ]
  },
  {
   "cell_type": "markdown",
   "id": "044b17a9",
   "metadata": {},
   "source": [
    "According to this plot I've saved $1.20 in 10 years .... Hopefully you can do better. "
   ]
  },
  {
   "cell_type": "code",
   "execution_count": 12,
   "id": "22f68363",
   "metadata": {},
   "outputs": [],
   "source": [
    "# your code here"
   ]
  },
  {
   "cell_type": "code",
   "execution_count": null,
   "id": "ce9a2792",
   "metadata": {},
   "outputs": [],
   "source": []
  }
 ],
 "metadata": {
  "kernelspec": {
   "display_name": "Python 3 (ipykernel)",
   "language": "python",
   "name": "python3"
  },
  "language_info": {
   "codemirror_mode": {
    "name": "ipython",
    "version": 3
   },
   "file_extension": ".py",
   "mimetype": "text/x-python",
   "name": "python",
   "nbconvert_exporter": "python",
   "pygments_lexer": "ipython3",
   "version": "3.9.12"
  }
 },
 "nbformat": 4,
 "nbformat_minor": 5
}
