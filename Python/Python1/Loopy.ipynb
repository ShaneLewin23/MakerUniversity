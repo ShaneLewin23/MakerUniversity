{
 "cells": [
  {
   "cell_type": "code",
   "execution_count": 5,
   "id": "42baf540",
   "metadata": {},
   "outputs": [],
   "source": [
    "import math"
   ]
  },
  {
   "cell_type": "markdown",
   "id": "93f8e133",
   "metadata": {},
   "source": [
    "# For Loops\n",
    "In this lesson we're going to work one of the basic operations in programming: For Loops. "
   ]
  },
  {
   "cell_type": "code",
   "execution_count": 4,
   "id": "1fbac2a6",
   "metadata": {},
   "outputs": [
    {
     "name": "stdout",
     "output_type": "stream",
     "text": [
      "1\n",
      "2\n",
      "3\n",
      "4\n",
      "5\n"
     ]
    }
   ],
   "source": [
    "for i in [1,2,3,4,5]:\n",
    "    print(i)"
   ]
  },
  {
   "cell_type": "markdown",
   "id": "ae0c08a4",
   "metadata": {},
   "source": [
    "A loop runs code in a circle until a stopping criteria has been met. In the code above the first line ```for i in [1,2,3,4,5]``` tells python to iterate through the list of numbers 1 through 5, each time assigning that number to i, and then to print that number.\n",
    "\n",
    "* The first time through the loop i is set equal to 1, and it prints i.\n",
    "* The second time through teh loop i is set to 2, and it prints 2\n",
    "* An so forth\n",
    "* The last time through the loop i is set equal to 5, and print(5) is called. \n",
    "\n",
    "After the last time there's nothing left in the array and the loop is finished. "
   ]
  },
  {
   "cell_type": "markdown",
   "id": "99c44c0a",
   "metadata": {},
   "source": [
    "---------------------\n",
    "\n",
    "You can add complex functions inside the loop as long as you keep the indenting rules. For example, lets multiply every number in a list by a random number between 0 and 1.  \n",
    "\n",
    "#### aside: generating random numbers between 0 and 1\n",
    "There's a handy library called random that lets you generate all kinds of random numbers. The simplest one is random.random, which generates a number between 0 and 1. "
   ]
  },
  {
   "cell_type": "code",
   "execution_count": 14,
   "id": "a0ae4817",
   "metadata": {},
   "outputs": [
    {
     "name": "stdout",
     "output_type": "stream",
     "text": [
      "0.5633554280198205\n",
      "0.15037963013293953\n",
      "0.2723184468244022\n",
      "0.27321498061097527\n",
      "0.30508776777431923\n"
     ]
    }
   ],
   "source": [
    "import random\n",
    "for i in range(5):\n",
    "    print(random.random())"
   ]
  },
  {
   "cell_type": "markdown",
   "id": "215c7725",
   "metadata": {},
   "source": [
    "Ok, so now we know how to generate random numbers. Lets create a loop that multiples the first 7 numbers by a random number and prints it. "
   ]
  },
  {
   "cell_type": "code",
   "execution_count": 15,
   "id": "4cf908e8",
   "metadata": {},
   "outputs": [
    {
     "name": "stdout",
     "output_type": "stream",
     "text": [
      "0.6803823593976859\n",
      "0.93844324666543\n",
      "1.214928447844634\n",
      "0.7212748155542559\n",
      "3.3364910071740894\n",
      "0.3185374786364825\n",
      "3.8099028352374726\n"
     ]
    }
   ],
   "source": [
    "for i in [1,2,3,4,5,6,7]: \n",
    "    x = i*random.random()\n",
    "    print(x)"
   ]
  },
  {
   "cell_type": "markdown",
   "id": "c669a7a3",
   "metadata": {},
   "source": [
    "## Loops with strings \n",
    "Loops can iterated over any list object, whatever in it. For example"
   ]
  },
  {
   "cell_type": "code",
   "execution_count": 18,
   "id": "39378da1",
   "metadata": {},
   "outputs": [
    {
     "name": "stdout",
     "output_type": "stream",
     "text": [
      "Bob, you are a total wanker.\n",
      "Lisa, you are a total wanker.\n",
      "Jacob, you are a total wanker.\n"
     ]
    }
   ],
   "source": [
    "for name in [\"Bob\", \"Lisa\", \"Jacob\"]:\n",
    "    print(\"%s, you are a total wanker.\"%name)"
   ]
  },
  {
   "cell_type": "markdown",
   "id": "75539fce",
   "metadata": {},
   "source": [
    "some important things to note. \n",
    "First, we used `for name in ...` not `for i in`. There's no rule you have to use `i`, it can be any variable. Whatever is after the `for` will be the variable used. \n",
    "Second, we iterated through a list of strings instead of a list of intgers. Again, we can iterate thorough any list.\n",
    "Lastly, the print function is a little wonky. The `%s` inside the quotes tells python that we're going to add a variable into the string, which we added by adding a `%name` after ths string. This change `%s` to the name in the loop. Note that %s means its going to be a string. We'd have to use %d for a digit and %f for a float. \n",
    "\n",
    "We can also make loops in loops. "
   ]
  },
  {
   "cell_type": "code",
   "execution_count": 21,
   "id": "3b655e3c",
   "metadata": {},
   "outputs": [
    {
     "name": "stdout",
     "output_type": "stream",
     "text": [
      "Bob, you are a wanker.\n",
      "Bob, you are a slug farmer.\n",
      "Bob, you are a nerf herder.\n",
      "Lisa, you are a wanker.\n",
      "Lisa, you are a slug farmer.\n",
      "Lisa, you are a nerf herder.\n",
      "Jacob, you are a wanker.\n",
      "Jacob, you are a slug farmer.\n",
      "Jacob, you are a nerf herder.\n"
     ]
    }
   ],
   "source": [
    "for name in [\"Bob\", \"Lisa\", \"Jacob\"]:\n",
    "    for insult in [\"wanker\", \"slug farmer\", \"nerf herder\"]:\n",
    "        print(\"%s, you are a %s.\"%(name, insult))"
   ]
  },
  {
   "cell_type": "markdown",
   "id": "2d4acbee",
   "metadata": {},
   "source": [
    "## Excercise 1\n",
    "\n",
    "### 1.1 Create a loop that prints the first 10 digits multipled by 100"
   ]
  },
  {
   "cell_type": "code",
   "execution_count": null,
   "id": "fb7f432b",
   "metadata": {},
   "outputs": [],
   "source": [
    "# your code here"
   ]
  },
  {
   "cell_type": "markdown",
   "id": "f25af22f",
   "metadata": {},
   "source": [
    "### 1.2 Create a loop that prints a compliment to five of your friends"
   ]
  },
  {
   "cell_type": "code",
   "execution_count": 22,
   "id": "96afebf6",
   "metadata": {},
   "outputs": [],
   "source": [
    "# your code here"
   ]
  },
  {
   "cell_type": "markdown",
   "id": "db2a3139",
   "metadata": {},
   "source": [
    "## The range function\n",
    "Imagine if you wanted to loop through 25,000 different things. It would be pretty irritating to have to write out an array of 25,000 different elements. No worries, as with most things, python has a function for that. In this case its the range() function.  "
   ]
  },
  {
   "cell_type": "code",
   "execution_count": 25,
   "id": "a1b28446",
   "metadata": {},
   "outputs": [
    {
     "name": "stdout",
     "output_type": "stream",
     "text": [
      "0\n",
      "1\n",
      "2\n",
      "3\n",
      "4\n"
     ]
    }
   ],
   "source": [
    "for i in range(5):\n",
    "    print(i)"
   ]
  },
  {
   "cell_type": "markdown",
   "id": "94ca9711",
   "metadata": {},
   "source": [
    "The range function creates an array to iterate through. `range(5)` tells python that it should iterate through the first 5 numbers.\n",
    "IMPORTANT: python always starts at zero! So if you tell it to create `range(5)` its not going to end on 5, b/c there's 5 numbers from 0 to 4! \n",
    "\n",
    "You dont have to start at zero: "
   ]
  },
  {
   "cell_type": "code",
   "execution_count": 26,
   "id": "fafe95f2",
   "metadata": {},
   "outputs": [
    {
     "name": "stdout",
     "output_type": "stream",
     "text": [
      "2\n",
      "3\n",
      "4\n",
      "5\n",
      "6\n",
      "7\n",
      "8\n",
      "9\n"
     ]
    }
   ],
   "source": [
    "for i in range(2,10):\n",
    "    print(i)"
   ]
  },
  {
   "cell_type": "markdown",
   "id": "f4c84b84",
   "metadata": {},
   "source": [
    "TNote, again, how python indexes the range function -- it starts at the first number and stops before the last number. "
   ]
  },
  {
   "cell_type": "code",
   "execution_count": null,
   "id": "759e5280",
   "metadata": {},
   "outputs": [],
   "source": []
  },
  {
   "cell_type": "markdown",
   "id": "ba7c3d29",
   "metadata": {},
   "source": [
    "## Assignments"
   ]
  },
  {
   "cell_type": "markdown",
   "id": "2986fc6d",
   "metadata": {},
   "source": [
    "### 1. Print all the numbers between 0 and 23"
   ]
  },
  {
   "cell_type": "code",
   "execution_count": null,
   "id": "d2c3b48a",
   "metadata": {},
   "outputs": [],
   "source": []
  },
  {
   "cell_type": "markdown",
   "id": "0eab39bd",
   "metadata": {},
   "source": [
    "### 2. Print all the numbers between -23 and 23"
   ]
  },
  {
   "cell_type": "code",
   "execution_count": null,
   "id": "1efd706c",
   "metadata": {},
   "outputs": [],
   "source": []
  },
  {
   "cell_type": "markdown",
   "id": "5daea649",
   "metadata": {},
   "source": [
    "### 3. Using a for loop, print every letter in the alphabet 5 timesl\n",
    "e.g. \n",
    "aaaaa\n",
    "bbbbb\n",
    "ccccc\n",
    "etc. \n",
    "\n",
    "You have to do it with a loop and use the starting string below: "
   ]
  },
  {
   "cell_type": "code",
   "execution_count": 27,
   "id": "b2d2c06a",
   "metadata": {},
   "outputs": [],
   "source": [
    "alphabet = 'abcdefghijklmnopqrstuvwxyz'\n",
    "# your code here"
   ]
  },
  {
   "cell_type": "markdown",
   "id": "0c1bd519",
   "metadata": {},
   "source": [
    "### 4. print the square of each of the numbers between 333 and 339\n",
    "print a readable string. each line should look like:\n",
    "`the square of 2 is 4`\n",
    "(except replace 2 and 4 with 333 and 333^2.\n",
    "\n",
    "Note that in python the square is given with double asterisk. E.g. `2**2=4`. "
   ]
  },
  {
   "cell_type": "code",
   "execution_count": null,
   "id": "5f780c3e",
   "metadata": {},
   "outputs": [],
   "source": [
    "# your code here"
   ]
  },
  {
   "cell_type": "markdown",
   "id": "bdcbd67f",
   "metadata": {},
   "source": [
    "## 5. generate a completely random passcode that is 41 characters long"
   ]
  },
  {
   "cell_type": "code",
   "execution_count": 28,
   "id": "eb79a696",
   "metadata": {},
   "outputs": [],
   "source": [
    "# your code here. Note this is review. "
   ]
  },
  {
   "cell_type": "markdown",
   "id": "eb2292c3",
   "metadata": {},
   "source": [
    "### 6. Challenge! The fibbonacci sequence\n",
    "the fibbonacci sequence is a sequence where the next number in the sequence is the sum of hte previous two.  The first two is 1 and 1 to start. So you get: \n",
    "1, 1, 2, 3, 5, 8, 15, ...\n",
    "\n",
    "I want you to find the 75th element of the fibbonacci sequence. "
   ]
  },
  {
   "cell_type": "code",
   "execution_count": null,
   "id": "fc99727d",
   "metadata": {},
   "outputs": [],
   "source": [
    "# your code here. "
   ]
  }
 ],
 "metadata": {
  "kernelspec": {
   "display_name": "Python 3 (ipykernel)",
   "language": "python",
   "name": "python3"
  },
  "language_info": {
   "codemirror_mode": {
    "name": "ipython",
    "version": 3
   },
   "file_extension": ".py",
   "mimetype": "text/x-python",
   "name": "python",
   "nbconvert_exporter": "python",
   "pygments_lexer": "ipython3",
   "version": "3.11.3"
  }
 },
 "nbformat": 4,
 "nbformat_minor": 5
}
