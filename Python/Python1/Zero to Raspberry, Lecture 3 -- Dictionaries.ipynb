{
 "cells": [
  {
   "cell_type": "markdown",
   "id": "6a03298d",
   "metadata": {},
   "source": [
    "# Lecture 3: Dictionaries\n",
    "Programming, in a nutshell, is the process of moving data around. You render RGB as pixels in an image to make a picture, and change it progressively to make a movie. Data might be a password or a file or a list of all my favorite names for puppies (such as captain furbutkin the third). As you get better at programming you want to get better at thinking about the data being manipulated in your program. \n",
    "\n",
    "You've already learned about lists, which are great objects for storing large amounts of similar data. But often data needs to point to other types of data. \n",
    "\n",
    "For example, suppose you want to store someone's username and their email addresses (a very common scenario). You might make two lists, one with passwords and one with email addresses. "
   ]
  },
  {
   "cell_type": "code",
   "execution_count": 1,
   "id": "db0df609",
   "metadata": {},
   "outputs": [],
   "source": [
    "email_addresses = [\n",
    "    'dad@gmail.com', \n",
    "    'samuel@gmail.com', \n",
    "    'guy@yahoo.com']\n",
    "\n",
    "user_names = [\n",
    "    'whalruus', \n",
    "    'ducky', \n",
    "    'thatguy'\n",
    "]"
   ]
  },
  {
   "cell_type": "markdown",
   "id": "f2659bba",
   "metadata": {},
   "source": [
    "Simple enough. But now if we want to get samuel's email address from his username it gets a little wonky. We'd first have to iterate through the usernames to find which position ducky is in, remember that position, and then go to that position email addresses. \n",
    "\n",
    "That would be a tedious processes, but it gets worse. Maybe you want to store the telephone number and address and minecraft achievements for Samuel -- now you have to remember samuel's id and look it up in 4 dictionaries, which could easily grow to 5 or 10 or 20 or 10,000. Ouch. And if one of those gets out of order (samuel's information is not in the same position"
   ]
  }
 ],
 "metadata": {
  "kernelspec": {
   "display_name": "Python 3 (ipykernel)",
   "language": "python",
   "name": "python3"
  },
  "language_info": {
   "codemirror_mode": {
    "name": "ipython",
    "version": 3
   },
   "file_extension": ".py",
   "mimetype": "text/x-python",
   "name": "python",
   "nbconvert_exporter": "python",
   "pygments_lexer": "ipython3",
   "version": "3.10.9"
  }
 },
 "nbformat": 4,
 "nbformat_minor": 5
}
