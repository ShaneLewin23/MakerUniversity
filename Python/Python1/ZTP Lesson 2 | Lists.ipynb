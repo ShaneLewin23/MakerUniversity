{
 "cells": [
  {
   "cell_type": "code",
   "execution_count": null,
   "id": "52d6caf4",
   "metadata": {},
   "outputs": [],
   "source": []
  },
  {
   "cell_type": "markdown",
   "id": "76884701",
   "metadata": {},
   "source": [
    "# Lists\n",
    "When writing programs, you often needs to work with lots of data. A common, and very useful 'data structure' for working with lots of data is a list. In python, lists are defined using brackets with the stuff inside the list seperated by commas. For example, this is a pythonic list of all the types of dogs I've owned: \n",
    "\n",
    "```my_dogs = [\"mutt\", \"beagle/daschund\", \"labrador\", \"golden retriever\", \"sheprador\"]```\n",
    "\n",
    "To be a good software engineer, you need to understand lists. In this lecture we're going to go through the basics.\n",
    "\n",
    "lets start by creating a list of numbers from 1 to 10. "
   ]
  },
  {
   "cell_type": "code",
   "execution_count": 1,
   "id": "501d9687",
   "metadata": {},
   "outputs": [],
   "source": [
    "lst = [1,2,3,4,5,6,7,8,9,10]"
   ]
  },
  {
   "cell_type": "markdown",
   "id": "48215836",
   "metadata": {},
   "source": [
    "The print function works with lists. "
   ]
  },
  {
   "cell_type": "code",
   "execution_count": 2,
   "id": "18c88b92",
   "metadata": {},
   "outputs": [
    {
     "name": "stdout",
     "output_type": "stream",
     "text": [
      "[1, 2, 3, 4, 5, 6, 7, 8, 9, 10]\n"
     ]
    }
   ],
   "source": [
    "print(lst)"
   ]
  },
  {
   "cell_type": "markdown",
   "id": "627aeef6",
   "metadata": {},
   "source": [
    "You can access elements in lists through indexing."
   ]
  },
  {
   "cell_type": "code",
   "execution_count": 4,
   "id": "b20a66f6",
   "metadata": {},
   "outputs": [
    {
     "data": {
      "text/plain": [
       "1"
      ]
     },
     "execution_count": 4,
     "metadata": {},
     "output_type": "execute_result"
    }
   ],
   "source": [
    "lst[0] # remember python starts all indexing at 0"
   ]
  },
  {
   "cell_type": "markdown",
   "id": "881d11b2",
   "metadata": {},
   "source": [
    "You can also change an element of a list. "
   ]
  },
  {
   "cell_type": "code",
   "execution_count": 5,
   "id": "6199e709",
   "metadata": {},
   "outputs": [
    {
     "name": "stdout",
     "output_type": "stream",
     "text": [
      "[1, 2, 3, 4, 5, 'dog', 7, 8, 9, 10]\n"
     ]
    }
   ],
   "source": [
    "lst[5] = \"dog\"\n",
    "print(lst)"
   ]
  },
  {
   "cell_type": "markdown",
   "id": "3a8637cf",
   "metadata": {},
   "source": [
    "Its important to understand what I did above. First, lists are 'mutable*', which just means you can change elements of a list. Above, by seting \n",
    "```list[5] = \"dog\"```\n",
    "I told python to set the 6th element of the list to be equal to \"dog\" (remember it starts at zero so list[5] is actually the sixth element). \n",
    "\n",
    "but its also true that I added a string to a list of integers. This is allowed in python, but usually not allowed in other languages. \n",
    "As you develop as a programmer, you'll learn that a lot of things are consistent between programming languages, such as the fact that all programming languages support lists, but the rules are often different. In C++, for example, each list can only have a specific type of object (int, string, float, class, etc.), and only that type. In python, you can create a list and put whatever you want into it. You can even put another list into a list. There are advantages to this, but be careful -- it can cause a lot of problems. You'll create some of those problems in homework assignments below. \n",
    "\n",
    "As a rule, avoid mixing data types in lists. There are always better ways to solve a problem than making messy data structures. \n",
    "\n",
    "#### Aside, what is 'mutable'? \n",
    "Above I said that lists are 'mutable'. This just means you can change (technically update) the elements. Many data types are what is called 'immutable' or 'not mutable', which as you can probably guess means that you cant change the elements. A string, for example, is not mutable. If you want to change a string you need to create a new one and destroy the old one. When you see the word mutable, you can think 'changeable', and immutable means 'unchangeable'. \n",
    "\n",
    "## Working with lists\n",
    "As with strings, a list is a class, and classes have specific 'methods' that are helpful in working with lists. The most common ones are add, remove, delete, and sort.\n",
    "\n",
    "1. Create an empty list of students"
   ]
  },
  {
   "cell_type": "code",
   "execution_count": 13,
   "id": "518c6c83",
   "metadata": {},
   "outputs": [
    {
     "name": "stdout",
     "output_type": "stream",
     "text": [
      "[]\n"
     ]
    }
   ],
   "source": [
    "students = [] # an empty open and close bracket is an empty list. Python knows its a list but puts nothing in it. \n",
    "print(students)"
   ]
  },
  {
   "cell_type": "markdown",
   "id": "b7a3694a",
   "metadata": {},
   "source": [
    "2. Add some students to the list using hte method ```.append()```"
   ]
  },
  {
   "cell_type": "code",
   "execution_count": 14,
   "id": "799e8305",
   "metadata": {},
   "outputs": [
    {
     "name": "stdout",
     "output_type": "stream",
     "text": [
      "['Jamie', 'Connor', 'Samuel', 'Chris', 'Riley']\n"
     ]
    }
   ],
   "source": [
    "students.append(\"Jamie\")\n",
    "students.append(\"Connor\")\n",
    "students.append(\"Samuel\")\n",
    "students.append(\"Chris\")\n",
    "students.append(\"Riley\")\n",
    "print(students)"
   ]
  },
  {
   "cell_type": "markdown",
   "id": "015fcf0e",
   "metadata": {},
   "source": [
    "### Excercise 1\n",
    "1. Re-run the cell above. What do you get? Now change the cell so that when you re-run each person appears only once. \n",
    "2. Whoops! Riley is our dog, not a student. Remove riley from the list and add \"Tyler\". \n",
    "3. Sort the list in alphabetical order and print the sorted list. Hint: type 'student.' and then TAB to get a list of methods for the list. One of the methods will help you."
   ]
  },
  {
   "cell_type": "markdown",
   "id": "40fbf78e",
   "metadata": {},
   "source": [
    "## Adding and deleting elements from the top and bottom of a list\n",
    "Once you have a list you can add and delete elements from the top and bottom of a list using 'pop' and 'append' functions. "
   ]
  },
  {
   "cell_type": "code",
   "execution_count": 22,
   "id": "939bfff5",
   "metadata": {},
   "outputs": [
    {
     "name": "stdout",
     "output_type": "stream",
     "text": [
      "['monkey', 'golden', 'labrador', 'poodle', 'tiger', 'german shepard', 'maine coon']\n"
     ]
    }
   ],
   "source": [
    "breeds = [\"monkey\", \"golden\", \"labrador\", \"poodle\", \"tiger\", \"german shepard\", \"maine coon\"]\n",
    "print(breeds)"
   ]
  },
  {
   "cell_type": "code",
   "execution_count": 23,
   "id": "e4c2eded",
   "metadata": {},
   "outputs": [
    {
     "name": "stdout",
     "output_type": "stream",
     "text": [
      "maine coon\n",
      "['monkey', 'golden', 'labrador', 'poodle', 'tiger', 'german shepard']\n"
     ]
    }
   ],
   "source": [
    "# remove the last element in a list using pop()\n",
    "last = breeds.pop() \n",
    "print(last)\n",
    "print(breeds)"
   ]
  },
  {
   "cell_type": "code",
   "execution_count": 24,
   "id": "1e7e2c4c",
   "metadata": {},
   "outputs": [
    {
     "name": "stdout",
     "output_type": "stream",
     "text": [
      "monkey\n",
      "['golden', 'labrador', 'poodle', 'tiger', 'german shepard']\n"
     ]
    }
   ],
   "source": [
    "# remove the first element of a list using pop(0) for the 0th position in the list\n",
    "first = breeds.pop(0)\n",
    "print(first)\n",
    "print(breeds)"
   ]
  },
  {
   "cell_type": "code",
   "execution_count": 25,
   "id": "07421a89",
   "metadata": {},
   "outputs": [
    {
     "name": "stdout",
     "output_type": "stream",
     "text": [
      "tiger\n",
      "['golden', 'labrador', 'poodle', 'german shepard']\n"
     ]
    }
   ],
   "source": [
    "# now we need to get tiger out. Tiger is in position 3, so we need to pop there\n",
    "p3 = breeds.pop(3)\n",
    "print(p3)\n",
    "print(breeds)"
   ]
  },
  {
   "cell_type": "markdown",
   "id": "4007e03c",
   "metadata": {},
   "source": [
    "### Excercise 2\n",
    "Create a list of 10 things (your choice), and then remove the first, last and a random one in the middle. Make sure to print the new list each time you make a change."
   ]
  },
  {
   "cell_type": "code",
   "execution_count": null,
   "id": "0e99e952",
   "metadata": {},
   "outputs": [],
   "source": [
    "# solution\n"
   ]
  },
  {
   "cell_type": "markdown",
   "id": "84590cf3",
   "metadata": {},
   "source": [
    "## Creating lists from a string using [list].split\n",
    "We can create lists directly from strings by using the split function.\n",
    "\n",
    "```list.split(c)``` will split the list based on whatever character is specificed by 'c' in the function arguemnt. Lets give some examples. \n"
   ]
  },
  {
   "cell_type": "code",
   "execution_count": null,
   "id": "582d6fd9",
   "metadata": {},
   "outputs": [],
   "source": []
  },
  {
   "cell_type": "code",
   "execution_count": 3,
   "id": "146c26cb",
   "metadata": {},
   "outputs": [
    {
     "name": "stdout",
     "output_type": "stream",
     "text": [
      "['my boys are named Jamie', ' Connor', ' and Samuel']\n"
     ]
    },
    {
     "data": {
      "text/plain": [
       "'my boys are named Jamie'"
      ]
     },
     "execution_count": 3,
     "metadata": {},
     "output_type": "execute_result"
    }
   ],
   "source": [
    "s = \"my boys are named Jamie, Connor, and Samuel\"\n",
    "sl = s.split(',')\n",
    "print(sl)\n",
    "sl[0]"
   ]
  },
  {
   "cell_type": "markdown",
   "id": "6066b56b",
   "metadata": {},
   "source": [
    "I used a comma (',') to split the string, so everywhere there was a comma the string was broken into a cell in the list. Note that the comma was destroyed. You can split a list on anything.\n"
   ]
  },
  {
   "cell_type": "code",
   "execution_count": 4,
   "id": "146eb11f",
   "metadata": {},
   "outputs": [
    {
     "data": {
      "text/plain": [
       "['my boys are named ', ', Connor, and Samuel']"
      ]
     },
     "execution_count": 4,
     "metadata": {},
     "output_type": "execute_result"
    }
   ],
   "source": [
    "s.split('Jamie')"
   ]
  },
  {
   "cell_type": "code",
   "execution_count": 6,
   "id": "8ba85400",
   "metadata": {},
   "outputs": [
    {
     "data": {
      "text/plain": [
       "['', ' Jamie, Connor, and Samuel']"
      ]
     },
     "execution_count": 6,
     "metadata": {},
     "output_type": "execute_result"
    }
   ],
   "source": [
    "s.split('my boys are named')"
   ]
  },
  {
   "cell_type": "markdown",
   "id": "48c50e77",
   "metadata": {},
   "source": [
    "Its often useful to split with spaces. This gives you a list of words from a sentence."
   ]
  },
  {
   "cell_type": "code",
   "execution_count": 26,
   "id": "e97b16b7",
   "metadata": {},
   "outputs": [
    {
     "name": "stdout",
     "output_type": "stream",
     "text": [
      "['this', 'is', 'a', 'long', 'sentence', 'of', 'words', 'that', 'will', 'probably', 'be', 'split', 'into', 'an', 'array', 'at', 'some', 'point.']\n"
     ]
    }
   ],
   "source": [
    "s3 = \"this is a long sentence of words that will probably be split into an array at some point.\"\n",
    "s3lst = s3.split(\" \") # splits on a space\n",
    "print(s3lst)"
   ]
  },
  {
   "cell_type": "markdown",
   "id": "95649132",
   "metadata": {},
   "source": [
    "## Replacing text in a string\n",
    "The last function we'll need to learn before our project is replacing text. IN the example below I'm going to change an email to be more politically correct.  "
   ]
  },
  {
   "cell_type": "code",
   "execution_count": 36,
   "id": "16fd0575",
   "metadata": {},
   "outputs": [
    {
     "name": "stdout",
     "output_type": "stream",
     "text": [
      "\n",
      "Dear John. \n",
      "I got your email and I just want to say that you are a titanic jerk and a total fatass. \n",
      "Your breath smells like rancid cats, and I'd rather eat a pile of monkey poop than work with you.  \n",
      "\n",
      "I quit! \n",
      "\n",
      "Your much-better-than-you-employee,\n",
      "Shane.\n",
      "\n"
     ]
    }
   ],
   "source": [
    "email = '''\n",
    "Dear John. \n",
    "I got your email and I just want to say that you are a titanic jerk and a total fatass. \n",
    "Your breath smells like rancid cats, and I'd rather eat a pile of monkey poop than work with you.  \n",
    "\n",
    "I quit! \n",
    "\n",
    "Your much-better-than-you-employee,\n",
    "Shane.\n",
    "'''\n",
    "print(email)"
   ]
  },
  {
   "cell_type": "markdown",
   "id": "a8109102",
   "metadata": {},
   "source": [
    "Uh oh. Shane doesnt acctually want to quit, he's just feeling a little grumpy. Thats a pretty bad email to send. \n",
    "\n",
    "Lets Rewrite the email above so that its work appropriate using only the replace method. I'll get you started.  "
   ]
  },
  {
   "cell_type": "code",
   "execution_count": 35,
   "id": "52258b72",
   "metadata": {},
   "outputs": [
    {
     "name": "stdout",
     "output_type": "stream",
     "text": [
      "\n",
      "Dear John. \n",
      "I got your email and I just want to say that you are making great points and I appreciate your input. \n",
      "Your breath smells like rancid cats, and I'd rather eat a pile of monkey poop than work with you.  \n",
      "\n",
      "I quit! \n",
      "\n",
      "Your much-better-than-you-employee,\n",
      "Shane.\n",
      "\n"
     ]
    }
   ],
   "source": [
    "new_email = email.replace(\"a titanic jerk and a total fatass\", \"making great points and I appreciate your input\")\n",
    "print(new_email)"
   ]
  },
  {
   "cell_type": "markdown",
   "id": "020da408",
   "metadata": {},
   "source": [
    "What did we do here? ```email.replace('original', 'new')``` replaces every single instance of the text 'origial' with 'new' in the string. Be careful! It will do it with every single one. For example: "
   ]
  },
  {
   "cell_type": "code",
   "execution_count": 37,
   "id": "37aefe65",
   "metadata": {},
   "outputs": [
    {
     "name": "stdout",
     "output_type": "stream",
     "text": [
      "\n",
      "DeSQUIDr John. \n",
      "I got your emSQUIDil SQUIDnd I just wSQUIDnt to sSQUIDy thSQUIDt you SQUIDre SQUID titSQUIDnic jerk SQUIDnd SQUID totSQUIDl fSQUIDtSQUIDss. \n",
      "Your breSQUIDth smells like rSQUIDncid cSQUIDts, SQUIDnd I'd rSQUIDther eSQUIDt SQUID pile of monkey poop thSQUIDn work with you.  \n",
      "\n",
      "I quit! \n",
      "\n",
      "Your much-better-thSQUIDn-you-employee,\n",
      "ShSQUIDne.\n",
      "\n"
     ]
    }
   ],
   "source": [
    "print(email.replace(\"a\", \"SQUID\"))"
   ]
  },
  {
   "cell_type": "markdown",
   "id": "e276329a",
   "metadata": {},
   "source": [
    "Note that we have not changed the email. email.replace() creates a new email and leaves the email alone (unless you type email = email.replace()). \n",
    "\n",
    "### Homework 3\n",
    "Rewrite the email above so that Shane is not going to get fired or quit.  "
   ]
  },
  {
   "cell_type": "markdown",
   "id": "7a4a1f49",
   "metadata": {},
   "source": [
    "## Final Project: Write a mad-libs\n",
    "A Mad-Libs is a game in which you let players chose verbs, nouns and adjectives and you tell a story. "
   ]
  },
  {
   "cell_type": "code",
   "execution_count": 39,
   "id": "d701f36d",
   "metadata": {},
   "outputs": [],
   "source": [
    "ml = \"Our school cafeteria has reallly [ADJECTIVE1] food. Just \\\n",
    "thinking about it makes my stomach [VERB1]. The spaghetti is \\\n",
    "[ADJECTIVE2] and tastes a like [NOUN1]. One day, I swear, one of \\\n",
    "my meatballs started to [VERB2]! The turkey tacos are totally \\\n",
    "[ADJECTIVE3] and look kind of like old [NOUN2]. My friend Dana \\\n",
    "actually likes the meatloaf, even though its [ADJECTIVE4] and \\\n",
    "[ADJECTIVE5]. I call it 'mystery meatloaf' and think its really \\\n",
    "made out of [NOUN3]. My dad said he'd make lunches, but the first \\\n",
    "day he mande me a sandwich out of [NOUN4] and peanut butter. I think \\\n",
    "I'd rather take my chances with the cafeteria.\""
   ]
  },
  {
   "cell_type": "markdown",
   "id": "3ab57e8c",
   "metadata": {},
   "source": [
    "Your Job is to create a game where people give you the adjectives, verbs and nouns needed to make the madlib. "
   ]
  },
  {
   "cell_type": "code",
   "execution_count": null,
   "id": "f2824fc1",
   "metadata": {},
   "outputs": [],
   "source": []
  },
  {
   "cell_type": "code",
   "execution_count": null,
   "id": "c096888a",
   "metadata": {},
   "outputs": [],
   "source": []
  },
  {
   "cell_type": "code",
   "execution_count": null,
   "id": "76314663",
   "metadata": {},
   "outputs": [],
   "source": []
  }
 ],
 "metadata": {
  "kernelspec": {
   "display_name": "Python 3 (ipykernel)",
   "language": "python",
   "name": "python3"
  },
  "language_info": {
   "codemirror_mode": {
    "name": "ipython",
    "version": 3
   },
   "file_extension": ".py",
   "mimetype": "text/x-python",
   "name": "python",
   "nbconvert_exporter": "python",
   "pygments_lexer": "ipython3",
   "version": "3.9.12"
  }
 },
 "nbformat": 4,
 "nbformat_minor": 5
}
