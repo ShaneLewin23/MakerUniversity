{
 "cells": [
  {
   "cell_type": "markdown",
   "id": "b03bc831",
   "metadata": {},
   "source": [
    "# Lesson 5: Dictionaries\n",
    "In previous lesson you learned that you can store data in objects called lists. Lists are great at storing large collections of similar objects, but they can be very problematic if you want to be able to associate one type of data with another. \n",
    "For example, consider a school that wants store student information in a database. You could create a list of students such as "
   ]
  },
  {
   "cell_type": "code",
   "execution_count": 1,
   "id": "c3515d8a",
   "metadata": {},
   "outputs": [],
   "source": [
    "students = ['Samuel Lewin', 'Chris Peterson', 'Mike Tyson', 'Connor Lewin']"
   ]
  },
  {
   "cell_type": "markdown",
   "id": "efc75b20",
   "metadata": {},
   "source": [
    "But lets say we wanted to have more information, such as their grade. We could create another list"
   ]
  },
  {
   "cell_type": "code",
   "execution_count": 2,
   "id": "2289cc50",
   "metadata": {},
   "outputs": [],
   "source": [
    "grades = [8,8,5,6]"
   ]
  },
  {
   "cell_type": "markdown",
   "id": "2f63a697",
   "metadata": {},
   "source": [
    "Now if we want to look up what grade samuel is in we need to look up what position Samuel is in in the first list and then go find him in the second list. "
   ]
  },
  {
   "cell_type": "code",
   "execution_count": 3,
   "id": "942939c6",
   "metadata": {},
   "outputs": [
    {
     "name": "stdout",
     "output_type": "stream",
     "text": [
      "8\n"
     ]
    }
   ],
   "source": [
    "indx = -1\n",
    "for i in range(len(students)):\n",
    "    if students[i] == 'Samuel Lewin':\n",
    "        index = i\n",
    "\n",
    "grade = None\n",
    "if index != -1: \n",
    "    grade = grades[index]\n",
    "\n",
    "print(grade)"
   ]
  },
  {
   "cell_type": "markdown",
   "id": "7d2932f0",
   "metadata": {},
   "source": [
    "Thats kind of a pain, and it becomes a real problem if the lists get big. But there's a much bigger problem still: what happens if you add an element to a list? The indexes wont line up and all of the data will be wrong.  \n",
    "\n",
    "### Excercise 1: Write a function that looks up the grade of a student using the full name"
   ]
  },
  {
   "cell_type": "code",
   "execution_count": 4,
   "id": "c2d54e34",
   "metadata": {},
   "outputs": [],
   "source": [
    "# your code here "
   ]
  },
  {
   "cell_type": "markdown",
   "id": "87b18edd",
   "metadata": {},
   "source": [
    "Its a little unwieldly having to manage two seperate lists to get a single ID, and can be a real nightmare if the lists get big. Fortunately there's a better solution: a dictionary. "
   ]
  },
  {
   "cell_type": "code",
   "execution_count": 6,
   "id": "d45abc00",
   "metadata": {},
   "outputs": [
    {
     "data": {
      "text/plain": [
       "5"
      ]
     },
     "execution_count": 6,
     "metadata": {},
     "output_type": "execute_result"
    }
   ],
   "source": [
    "grades_dict = {\n",
    "    'Samuel Lewin': 8,\n",
    "    'Chris Peterson': 8, \n",
    "    'Mike Tyson': 5,\n",
    "    'Connor Lewin': 6\n",
    "}\n",
    "\n",
    "# get Mike Tyson's grades\n",
    "grades_dict['Mike Tyson']"
   ]
  },
  {
   "cell_type": "markdown",
   "id": "6789cff8",
   "metadata": {},
   "source": [
    "So lets unpack what I did there. We start by defining a dictionary called `grades_dict` and let python know its a dictionary by using the brackets `{}`. The brackets are used in the same way as teh `[]` used to define lists.\n",
    "\n",
    "Next we start filling in the list using \"Key, Value\" pairs. The \"Key\" is the thing you know; the \"Value\" is the thing you want to find. So \"Chris Peterson\" would be the thing you know (the Key) and 8 is the thing you want to find (the Value). \n",
    "When we define the dictionary each row each Key is seperated from the value by a colon (`:`) and each row of data is seperated by a comma. \n",
    "\n",
    "Once created we can use the dictionary by typing the name of the dictionary (`grades_dict`) and follow it with brackets and then the key we're looking for. This tells the dictionary to go find the value. \n",
    "\n",
    "### Excercise 2: Using the dictionary print the Connor's grade"
   ]
  },
  {
   "cell_type": "code",
   "execution_count": 7,
   "id": "0b1717b6",
   "metadata": {},
   "outputs": [],
   "source": [
    "# your code here"
   ]
  },
  {
   "cell_type": "markdown",
   "id": "0f4cd501",
   "metadata": {},
   "source": [
    "Thats better in a lot of ways -- now we can look up grades for any student with a single line of code. But what if we also want to add address, or math scores, or honors classes or parents email addresses? We dont want to have 20 dictionaries, and you dont have to, because a single dictionary is endlessesly extensible. \n",
    "\n",
    "Lets re-think our students dictionary to be more exensible. "
   ]
  },
  {
   "cell_type": "code",
   "execution_count": 8,
   "id": "bfe5705a",
   "metadata": {},
   "outputs": [
    {
     "data": {
      "text/plain": [
       "8"
      ]
     },
     "execution_count": 8,
     "metadata": {},
     "output_type": "execute_result"
    }
   ],
   "source": [
    "sam = {\n",
    "    'first_name': 'Samuel',\n",
    "    'last_name': 'Blewin',\n",
    "    'grade': 8\n",
    "}\n",
    "\n",
    "# Now get Samuel's grade\n",
    "sam['grade']"
   ]
  },
  {
   "cell_type": "markdown",
   "id": "23b84524",
   "metadata": {},
   "source": [
    "Whoops! There's a typo in Samuel's name, but not a problem. Once you have a dictionary you can make changes using the bracket notation. "
   ]
  },
  {
   "cell_type": "code",
   "execution_count": 9,
   "id": "b059254f",
   "metadata": {},
   "outputs": [
    {
     "data": {
      "text/plain": [
       "{'first_name': 'Samuel', 'last_name': 'Lewin', 'grade': 8}"
      ]
     },
     "execution_count": 9,
     "metadata": {},
     "output_type": "execute_result"
    }
   ],
   "source": [
    "sam['last_name'] = 'Lewin'\n",
    "sam"
   ]
  },
  {
   "cell_type": "markdown",
   "id": "6a11e29a",
   "metadata": {},
   "source": [
    "You can also easily extend a dictionary. The code below will extend Samuel with a student ID"
   ]
  },
  {
   "cell_type": "code",
   "execution_count": 10,
   "id": "42df2271",
   "metadata": {},
   "outputs": [
    {
     "data": {
      "text/plain": [
       "{'first_name': 'Samuel', 'last_name': 'Lewin', 'grade': 8, 'student_id': 23}"
      ]
     },
     "execution_count": 10,
     "metadata": {},
     "output_type": "execute_result"
    }
   ],
   "source": [
    "sam['student_id'] = 23\n",
    "sam"
   ]
  },
  {
   "cell_type": "markdown",
   "id": "581e1ca3",
   "metadata": {},
   "source": [
    "### Excercise 3: Modify the student entry\n",
    "Samuel's name is actually John. Change his first name to reflect that, and add a field titled 'nickname' that includes 'samuel'. Print out the result. "
   ]
  },
  {
   "cell_type": "code",
   "execution_count": 11,
   "id": "9b692cba",
   "metadata": {},
   "outputs": [],
   "source": [
    "# your code here. "
   ]
  },
  {
   "cell_type": "markdown",
   "id": "25d0539c",
   "metadata": {},
   "source": [
    "## List of dictionaries\n",
    "The single student dictionary was cool because you can add all the information you want to a single student's record, but thats not going to work with multiple students very well. The good news is you can combine multiple students into other data structures. So lets make a list of students. "
   ]
  },
  {
   "cell_type": "code",
   "execution_count": 12,
   "id": "7ddc48a2",
   "metadata": {},
   "outputs": [
    {
     "data": {
      "text/plain": [
       "[{'first_name': 'Samuel', 'last_name': 'Lewin', 'grade': 8, 'student_id': 23}]"
      ]
     },
     "execution_count": 12,
     "metadata": {},
     "output_type": "execute_result"
    }
   ],
   "source": [
    "studentlist = []\n",
    "studentlist.append(sam)\n",
    "studentlist"
   ]
  },
  {
   "cell_type": "markdown",
   "id": "9bd66c7e",
   "metadata": {},
   "source": [
    "### Excercise 4: Add students to the list\n",
    "Add the rest of the students to the ```studentlist``` list. Make sure to include first name, last name, nickname, and grade. If they dont have a nickname you can use ```None```. Add a few more for good measure. "
   ]
  },
  {
   "cell_type": "code",
   "execution_count": 13,
   "id": "66e322a3",
   "metadata": {},
   "outputs": [],
   "source": [
    "# your code here"
   ]
  },
  {
   "cell_type": "markdown",
   "id": "f8cee0b2",
   "metadata": {},
   "source": [
    "## Getting things from a list of dictionaries\n",
    "Presumably you've added all the students to the list so that the list is a list of dictionaries. Now lets get some data out. To get data out of a list of dictionaries you have to iterate through that list and then call the apprpriate field. Here's an example to find Samuel's grade.  "
   ]
  },
  {
   "cell_type": "code",
   "execution_count": 14,
   "id": "15f39407",
   "metadata": {},
   "outputs": [
    {
     "name": "stdout",
     "output_type": "stream",
     "text": [
      "8\n"
     ]
    }
   ],
   "source": [
    "for student in studentlist:\n",
    "    if student['first_name'] == 'John' or student['first_name'] == 'Samuel':\n",
    "        print(student['grade'])"
   ]
  },
  {
   "cell_type": "markdown",
   "id": "3d8ff5e1",
   "metadata": {},
   "source": [
    "*Important!* Make sure you understand what I did above before going on. In the first step I coded\n",
    "\n",
    "```for student in studentlist:```\n",
    "\n",
    "That line of code iterates through everything in the list called studentlist and calls each entry a student. Easy peasy.  \n",
    "The second line asks if we have the right student by asking if the first name is samuel or John (b/c I wanted it to work before you changed Samuel to John). Remeber, because we are iterating through the list of dictionaries you created, and assigning each element of that list to the variable student, student is a dictionary. So we get something out of it (as above) by using the bracket notation. _Dont worry if this seems hard to remember -- it will become second nature over time_. \n",
    "\n",
    "Finally, it only prints the grade if the first name was correct. \n",
    "\n",
    "###### Note\n",
    "When working with functions like this, you have to be careful. What if there had been 2 samuels? Your function might have returned the wroing ID (and then maybe the wrong samuel gets promoted to honors and the other one gets suspended!) For now its ok to have **unsafe** functions like this, but its worth keeping it in mind. Later we'll learn how to avoid these kinds of issues. \n",
    "\n",
    "### Excercise 5: Write a function that gets the first name for any student from the last name"
   ]
  },
  {
   "cell_type": "code",
   "execution_count": 15,
   "id": "ee400879",
   "metadata": {},
   "outputs": [],
   "source": [
    "# your code here. Youre also going to need to figure out what the Exception thing is.\n",
    "def get_last_name(firstname):\n",
    "    raise Exception(\"Didnt implement this.\")"
   ]
  },
  {
   "cell_type": "code",
   "execution_count": 16,
   "id": "8a3e7e75",
   "metadata": {},
   "outputs": [
    {
     "ename": "Exception",
     "evalue": "Didnt implement this.",
     "output_type": "error",
     "traceback": [
      "\u001b[0;31m---------------------------------------------------------------------------\u001b[0m",
      "\u001b[0;31mException\u001b[0m                                 Traceback (most recent call last)",
      "\u001b[0;32m<ipython-input-16-5063eb44b6a7>\u001b[0m in \u001b[0;36m<module>\u001b[0;34m\u001b[0m\n\u001b[0;32m----> 1\u001b[0;31m \u001b[0mget_last_name\u001b[0m\u001b[0;34m(\u001b[0m\u001b[0;34m\"Tyson\"\u001b[0m\u001b[0;34m)\u001b[0m\u001b[0;34m\u001b[0m\u001b[0;34m\u001b[0m\u001b[0m\n\u001b[0m",
      "\u001b[0;32m<ipython-input-15-f7a673660bc8>\u001b[0m in \u001b[0;36mget_last_name\u001b[0;34m(firstname)\u001b[0m\n\u001b[1;32m      1\u001b[0m \u001b[0;31m# your code here. Youre also going to need to figure out what the Exception thing is.\u001b[0m\u001b[0;34m\u001b[0m\u001b[0;34m\u001b[0m\u001b[0;34m\u001b[0m\u001b[0m\n\u001b[1;32m      2\u001b[0m \u001b[0;32mdef\u001b[0m \u001b[0mget_last_name\u001b[0m\u001b[0;34m(\u001b[0m\u001b[0mfirstname\u001b[0m\u001b[0;34m)\u001b[0m\u001b[0;34m:\u001b[0m\u001b[0;34m\u001b[0m\u001b[0;34m\u001b[0m\u001b[0m\n\u001b[0;32m----> 3\u001b[0;31m     \u001b[0;32mraise\u001b[0m \u001b[0mException\u001b[0m\u001b[0;34m(\u001b[0m\u001b[0;34m\"Didnt implement this.\"\u001b[0m\u001b[0;34m)\u001b[0m\u001b[0;34m\u001b[0m\u001b[0;34m\u001b[0m\u001b[0m\n\u001b[0m",
      "\u001b[0;31mException\u001b[0m: Didnt implement this."
     ]
    }
   ],
   "source": [
    "get_last_name(\"Tyson\")"
   ]
  },
  {
   "cell_type": "markdown",
   "id": "891f88b3",
   "metadata": {},
   "source": [
    "# Iterating through dictionaries by getting Key Value Pairs\n",
    "A common way to store data in dictionaries is to assign an id as a key and have a whole dictionary as a value. For example: "
   ]
  },
  {
   "cell_type": "code",
   "execution_count": 1,
   "id": "64586a43",
   "metadata": {},
   "outputs": [],
   "source": [
    "student_data = {\n",
    "    'id1':\n",
    "                \n",
    "        {'name': \"Samuel Lewin\",\n",
    "            'grade': [8], \n",
    "            'courses_enrolled': ['Pre-Algebra', 'History', 'English', 'Dodgeball']\n",
    "        },\n",
    "    'id2':\n",
    "        {'name': \"Jamie Lewin\",\n",
    "            'grade': [8], \n",
    "            'courses_enrolled': ['6th Grade Math', 'History', 'English']\n",
    "        },\n",
    "    'id3':\n",
    "        {\n",
    "            'name': \"Connor Lewin\",\n",
    "            'grade': [6], \n",
    "            'courses_enrolled': ['Pre-Algebra', 'History', 'English', 'Dodgeball']\n",
    "        },\n",
    "    'id4':\n",
    "                {'name': \"Chris Anderson\",\n",
    "            'grade': [8], \n",
    "            'courses_enrolled': ['Trigonometry', 'History', 'English', 'Dodgeball']\n",
    "        },\n",
    "    'id5':\n",
    "        {'name': \"Samuel Lewin\",\n",
    "            'grade': [8], \n",
    "            'courses_enrolled': ['Pre-Algebra', 'History', 'English', 'Dodgeball']\n",
    "        }\n",
    "}"
   ]
  },
  {
   "cell_type": "markdown",
   "id": "b54ffc6c",
   "metadata": {},
   "source": [
    "This is a convenienent structure b/c you c an put as much data into the object as you want to but at the same time there's an easy way to get all the information out if you know the id. \n",
    "A helpful way of looking through data like this is to use the ```.items()``` method that can be called from any dictionary. Using ```items()``` allows you to get all the keys and the values. Lets give an example: "
   ]
  },
  {
   "cell_type": "code",
   "execution_count": 28,
   "id": "a6e8660c",
   "metadata": {},
   "outputs": [
    {
     "name": "stdout",
     "output_type": "stream",
     "text": [
      "key: id1, value: {'name': 'Samuel Lewin', 'grade': ['8'], 'courses_enrolled': ['Pre-Algebra', 'History', 'English', 'Dodgeball']}\n",
      "key: id2, value: {'name': 'Jamie Lewin', 'grade': ['8'], 'courses_enrolled': ['6th Grade Math', 'History', 'English']}\n",
      "key: id3, value: {'name': 'Connor Lewin', 'grade': ['6'], 'courses_enrolled': ['Pre-Algebra', 'History', 'English', 'Dodgeball']}\n",
      "key: id4, value: {'name': 'Chris Anderson', 'grade': ['8'], 'courses_enrolled': ['Trigonometry', 'History', 'English', 'Dodgeball']}\n",
      "key: id5, value: {'name': 'Samuel Lewin', 'grade': ['8'], 'courses_enrolled': ['Pre-Algebra', 'History', 'English', 'Dodgeball']}\n"
     ]
    }
   ],
   "source": [
    "for key, value in student_data.items():\n",
    "    print(\"key: %s, value: %s\"%(key, value))"
   ]
  },
  {
   "cell_type": "markdown",
   "id": "5d61d046",
   "metadata": {},
   "source": [
    "The way the string printing works (```print(\"key: %s, value: %s\"%(key, value))```) is that within the string a %s in the string tells python we're going to replace %s with a variable, which we tell python about with the ```%(key, value)``` term. When you do this, ```%s``` means you're going to use a string, ```%d``` meand a digit/integer, and ```%f``` means a floating point number. \n",
    "\n",
    "### Excercise 6: Use the method above to print out all the ```student_data``` but only print the id, the first name, and the grade. \n",
    "Note that the grade is in a list object (its in the zero position). Also, to get the first name you're going to need to parse out the name. I reccomend calling ```.split(\" \")``` on the string which will split the string wherever it finds a space (the blank space between the quotes is where it splits). "
   ]
  },
  {
   "cell_type": "code",
   "execution_count": 31,
   "id": "3c4afda9",
   "metadata": {},
   "outputs": [
    {
     "data": {
      "text/plain": [
       "{'id1': {'name': 'Samuel Lewin',\n",
       "  'grade': ['8'],\n",
       "  'courses_enrolled': ['Pre-Algebra', 'History', 'English', 'Dodgeball']},\n",
       " 'id2': {'name': 'Jamie Lewin',\n",
       "  'grade': ['8'],\n",
       "  'courses_enrolled': ['6th Grade Math', 'History', 'English']},\n",
       " 'id3': {'name': 'Connor Lewin',\n",
       "  'grade': ['6'],\n",
       "  'courses_enrolled': ['Pre-Algebra', 'History', 'English', 'Dodgeball']},\n",
       " 'id4': {'name': 'Chris Anderson',\n",
       "  'grade': ['8'],\n",
       "  'courses_enrolled': ['Trigonometry', 'History', 'English', 'Dodgeball']},\n",
       " 'id5': {'name': 'Samuel Lewin',\n",
       "  'grade': ['8'],\n",
       "  'courses_enrolled': ['Pre-Algebra', 'History', 'English', 'Dodgeball']}}"
      ]
     },
     "execution_count": 31,
     "metadata": {},
     "output_type": "execute_result"
    }
   ],
   "source": [
    "# your code here\n",
    "student_data"
   ]
  },
  {
   "cell_type": "markdown",
   "id": "6d802251",
   "metadata": {},
   "source": [
    "### Excercise 7: Fix the data\n",
    "There's some problems with the data. First, Jamie is in the sixth grade, not the 8th grade. Secondly, there's two records for Samuel Lewin (thats going to cause some serious problems with attendance).  Clean up the data programatically (dont manually change the records above, but use code to change it). \n",
    "\n",
    "An easy way to delete data is to use the del command, which deletes all data attached to a specific key (student Id in this case). \n",
    "\n",
    "```del student_data['key']```. "
   ]
  },
  {
   "cell_type": "code",
   "execution_count": null,
   "id": "edaf1fb7",
   "metadata": {},
   "outputs": [],
   "source": [
    "# Your code here. Dont forget to print out the fixed data using key,value iteration from items(). "
   ]
  },
  {
   "cell_type": "code",
   "execution_count": null,
   "id": "dedbdd59",
   "metadata": {},
   "outputs": [],
   "source": []
  },
  {
   "cell_type": "markdown",
   "id": "24e56e27",
   "metadata": {},
   "source": [
    "### Excercise 8: Find the average grade\n",
    "Write a python function to loop through the dictionary and find the average grade of all the students. Recall to find average you sum up all the numbers and divide by the total number seen.  "
   ]
  },
  {
   "cell_type": "code",
   "execution_count": null,
   "id": "c896a44d",
   "metadata": {},
   "outputs": [],
   "source": [
    "# your code here"
   ]
  },
  {
   "cell_type": "markdown",
   "id": "a509e3ca",
   "metadata": {},
   "source": [
    "## Project: Find Potential Wordle Words if you know the first two letters\n",
    "This is a primer for your first python final exam -- find wordle words. I'm going to start you out with a handy dandy function that will help you solve a wordle that your stuck on. But first, you're going to need the list of all the wordle eligible words. Dont worry too much about the next few lines of code -- they are all about opening a file of wordle words thats stored in the directory. You'll get to this soon enough.   "
   ]
  },
  {
   "cell_type": "code",
   "execution_count": 34,
   "id": "755d1edf",
   "metadata": {},
   "outputs": [
    {
     "name": "stdout",
     "output_type": "stream",
     "text": [
      "cigar\n",
      "rebut\n",
      "sissy\n",
      "humph\n",
      "awake\n",
      "blush\n",
      "focal\n",
      "evade\n",
      "naval\n",
      "serve\n",
      "heath\n",
      "dwarf\n",
      "model\n",
      "karma\n",
      "stink\n"
     ]
    }
   ],
   "source": [
    "f = open('wordlewords.txt', \"r\")\n",
    "rawwords = f.readlines()\n",
    "words = []\n",
    "for rawword in rawwords:\n",
    "    # pulls all the spaces and file artifacts off of the word\n",
    "    words.append(rawword.strip().lower())\n",
    "\n",
    "for i in range(0,15):\n",
    "    print(words[i])\n",
    "    "
   ]
  },
  {
   "cell_type": "markdown",
   "id": "612ae83f",
   "metadata": {},
   "source": [
    "#### problem\n",
    "So here's the situation. You need to write a function that tells you what words are available if you know there are two letters in the word you care about but you dont know anything else (position, etc.)\n",
    "\n",
    "#### Hint\n",
    "Create a dictionary in which the key is the first two letters and the value is a list of words. Then write a function in that calls the dictionary key for any two letters. \n",
    "\n",
    "#### Important!\n",
    "If you try to add a key to a dictionary and the key exists it will throw an error. Simiarly, if you try to access a key in a dictionary and the key doesnt exist it will throw an error. You can avoid this with an if block.  "
   ]
  },
  {
   "cell_type": "code",
   "execution_count": 2,
   "id": "e47af4de",
   "metadata": {},
   "outputs": [],
   "source": [
    "word = \"puppy\"\n",
    "wordmap = {}\n",
    "if \"pu\" in wordmap:\n",
    "    wordmap[\"pu\"].append(\"puppy\")\n",
    "else:\n",
    "    wordmap[\"pu\"] = [\"puppy\"]"
   ]
  },
  {
   "cell_type": "code",
   "execution_count": null,
   "id": "ae98ec7d",
   "metadata": {},
   "outputs": [],
   "source": [
    "# your code here"
   ]
  }
 ],
 "metadata": {
  "kernelspec": {
   "display_name": "Python 3",
   "language": "python",
   "name": "python3"
  },
  "language_info": {
   "codemirror_mode": {
    "name": "ipython",
    "version": 3
   },
   "file_extension": ".py",
   "mimetype": "text/x-python",
   "name": "python",
   "nbconvert_exporter": "python",
   "pygments_lexer": "ipython3",
   "version": "3.8.8"
  }
 },
 "nbformat": 4,
 "nbformat_minor": 5
}
