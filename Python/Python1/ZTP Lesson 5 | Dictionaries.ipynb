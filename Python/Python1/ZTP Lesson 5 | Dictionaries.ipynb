{
 "cells": [
  {
   "cell_type": "markdown",
   "id": "b03bc831",
   "metadata": {},
   "source": [
    "# Lesson 5: Dictionaries\n",
    "In previous lesson you learned that you can store data in objects called lists. Lists are great at storing large collections of similar objects, but they can be very problematic if you want to be able to associate one type of data with another. \n",
    "For example, consider a school that wants store student information in a database. You could create a list of students such as "
   ]
  },
  {
   "cell_type": "code",
   "execution_count": 1,
   "id": "c3515d8a",
   "metadata": {},
   "outputs": [],
   "source": [
    "students = ['Samuel Lewin', 'Chris Peterson', 'Mike Tyson', 'Connor Lewin']"
   ]
  },
  {
   "cell_type": "markdown",
   "id": "efc75b20",
   "metadata": {},
   "source": [
    "But lets say we wanted to have more information, such as their grade. We could create another list"
   ]
  },
  {
   "cell_type": "code",
   "execution_count": 2,
   "id": "2289cc50",
   "metadata": {},
   "outputs": [],
   "source": [
    "grades = [8,8,5,6]"
   ]
  },
  {
   "cell_type": "markdown",
   "id": "2f63a697",
   "metadata": {},
   "source": [
    "Now if we want to look up what grade samuel is in we need to look up what position Samuel is in in the first list and then go find him in the second list. "
   ]
  },
  {
   "cell_type": "code",
   "execution_count": 3,
   "id": "942939c6",
   "metadata": {},
   "outputs": [
    {
     "name": "stdout",
     "output_type": "stream",
     "text": [
      "8\n"
     ]
    }
   ],
   "source": [
    "indx = -1\n",
    "for i in range(len(students)):\n",
    "    if students[i] == 'Samuel Lewin':\n",
    "        index = i\n",
    "\n",
    "grade = None\n",
    "if index != -1: \n",
    "    grade = grades[index]\n",
    "\n",
    "print(grade)"
   ]
  },
  {
   "cell_type": "markdown",
   "id": "7d2932f0",
   "metadata": {},
   "source": [
    "Thats kind of a pain, and it becomes a real problem if the lists get big. But there's a much bigger problem still: what happens if you add an element to a list? The indexes wont line up and all of the data will be wrong.  \n",
    "\n",
    "### Excercise 1: Write a function that looks up the grade of a student using the full name"
   ]
  },
  {
   "cell_type": "code",
   "execution_count": 4,
   "id": "c2d54e34",
   "metadata": {},
   "outputs": [],
   "source": [
    "# your code here "
   ]
  },
  {
   "cell_type": "markdown",
   "id": "99d26d43",
   "metadata": {},
   "source": [
    "### Excercise 2: Add 2 names to the student lists and see what happens when you try to look up the grades of a few other students. "
   ]
  },
  {
   "cell_type": "code",
   "execution_count": 5,
   "id": "ec04fc0e",
   "metadata": {},
   "outputs": [],
   "source": [
    "# your code here"
   ]
  },
  {
   "cell_type": "markdown",
   "id": "87b18edd",
   "metadata": {},
   "source": [
    "Its safe to assume that errors like the one above will always happen given enough time. Consider how complicated it might get if you needed to track grades and addresses and parent names and emails and .... Nope. Lists are not going to cut it. \n",
    "Fortunately, programmers have long ago invented a data structure to help you deal with data that has a relationship to other data: Dictionaries. Lets redo the structure above. "
   ]
  },
  {
   "cell_type": "code",
   "execution_count": 7,
   "id": "d45abc00",
   "metadata": {},
   "outputs": [
    {
     "data": {
      "text/plain": [
       "5"
      ]
     },
     "execution_count": 7,
     "metadata": {},
     "output_type": "execute_result"
    }
   ],
   "source": [
    "grades_dict = {\n",
    "    'Samuel Lewin': 8,\n",
    "    'Chris Peterson': 8, \n",
    "    'Mike Tyson': 5,\n",
    "    'Connor Lewin': 6\n",
    "}\n",
    "\n",
    "# get Mike Tyson's grades\n",
    "grades_dict['Mike Tyson']"
   ]
  },
  {
   "cell_type": "markdown",
   "id": "6789cff8",
   "metadata": {},
   "source": [
    "So lets unpack what I did there. We start by defining a dictionary called `grades_dict` and let python know its a dictionary by using the brackets `{}`. The brackets are used in the same way as teh `[]` used to define lists.\n",
    "\n",
    "Next we start filling in the list using \"Key, Value\" pairs. The \"Key\" is the thing you know; the \"Value\" is the thing you want to find. So \"Chris Peterson\" would be the thing you know (the Key) and 8 is the thing you want to find (the Value). \n",
    "When we define the dictionary each row each Key is seperated from the value by a colon (`:`) and each row of data is seperated by a comma. \n",
    "\n",
    "Once created we can use the dictionary by typing the name of the dictionary (`grades_dict`) and follow it with brackets and then the key we're looking for. This tells the dictionary to go find the value. \n",
    "\n",
    "### Excercise 3: Using the dictionary print the Connor's grade"
   ]
  },
  {
   "cell_type": "code",
   "execution_count": 8,
   "id": "0b1717b6",
   "metadata": {},
   "outputs": [],
   "source": [
    "# your code here"
   ]
  },
  {
   "cell_type": "markdown",
   "id": "0f4cd501",
   "metadata": {},
   "source": [
    "Thats better in a lot of ways -- now we can look up grades for any student with a single line of code. But what if we also want to add address, or math scores, or honors classes or parents email addresses? We dont want to have 20 dictionaries, and you dont have to, because a single dictionary is endlessesly extensible. \n",
    "\n",
    "Lets re-think our students dictionary to be more exensible. "
   ]
  },
  {
   "cell_type": "code",
   "execution_count": 3,
   "id": "bfe5705a",
   "metadata": {},
   "outputs": [
    {
     "data": {
      "text/plain": [
       "8"
      ]
     },
     "execution_count": 3,
     "metadata": {},
     "output_type": "execute_result"
    }
   ],
   "source": [
    "sam = {\n",
    "    'first_name': 'Samuel',\n",
    "    'last_name': 'Blewin',\n",
    "    'grade': 8\n",
    "}\n",
    "\n",
    "# Now get Samuel's grade\n",
    "sam['grade']"
   ]
  },
  {
   "cell_type": "markdown",
   "id": "23b84524",
   "metadata": {},
   "source": [
    "Whoops! There's a typo in Samuel's name, but not a problem. Once you have a dictionary you can make changes using the bracket notation. "
   ]
  },
  {
   "cell_type": "code",
   "execution_count": 14,
   "id": "b059254f",
   "metadata": {},
   "outputs": [
    {
     "data": {
      "text/plain": [
       "{'first_name': 'Samuel', 'last_name': 'Lewin', 'grade': 8}"
      ]
     },
     "execution_count": 14,
     "metadata": {},
     "output_type": "execute_result"
    }
   ],
   "source": [
    "sam['last_name'] = 'Lewin'\n",
    "sam"
   ]
  },
  {
   "cell_type": "markdown",
   "id": "6a11e29a",
   "metadata": {},
   "source": [
    "You can also easily extend a dictionary. The code below will extend Samuel with a student ID"
   ]
  },
  {
   "cell_type": "code",
   "execution_count": 15,
   "id": "42df2271",
   "metadata": {},
   "outputs": [
    {
     "data": {
      "text/plain": [
       "{'first_name': 'Samuel', 'last_name': 'Lewin', 'grade': 8, 'student_id': 23}"
      ]
     },
     "execution_count": 15,
     "metadata": {},
     "output_type": "execute_result"
    }
   ],
   "source": [
    "sam['student_id'] = 23\n",
    "sam"
   ]
  },
  {
   "cell_type": "markdown",
   "id": "581e1ca3",
   "metadata": {},
   "source": [
    "### Excercise 4: Modify the student entry\n",
    "Samuel's name is actually John. Change his first name to reflect that, and add a field titled 'nickname' that includes 'samuel'. Print out the result. "
   ]
  },
  {
   "cell_type": "code",
   "execution_count": 1,
   "id": "9b692cba",
   "metadata": {},
   "outputs": [],
   "source": [
    "# your code here. "
   ]
  },
  {
   "cell_type": "markdown",
   "id": "25d0539c",
   "metadata": {},
   "source": [
    "## List of dictionaries\n",
    "The single student dictionary was cool because you can add all the information you want to a single student's record, but thats not going to work with multiple students very well. The good news is you can combine multiple students into other data structures. So lets make a list of students. "
   ]
  },
  {
   "cell_type": "code",
   "execution_count": 4,
   "id": "7ddc48a2",
   "metadata": {},
   "outputs": [
    {
     "data": {
      "text/plain": [
       "[{'first_name': 'Samuel', 'last_name': 'Blewin', 'grade': 8}]"
      ]
     },
     "execution_count": 4,
     "metadata": {},
     "output_type": "execute_result"
    }
   ],
   "source": [
    "studentlist = []\n",
    "studentlist.append(sam)\n",
    "studentlist"
   ]
  },
  {
   "cell_type": "markdown",
   "id": "9bd66c7e",
   "metadata": {},
   "source": [
    "### Excercise 4: Add students to the list\n",
    "Add the rest of the students to the ```studentlist``` list. Make sure to include first name, last name, nickname, and grade. If they dont have a nickname you can use ```None```. "
   ]
  },
  {
   "cell_type": "code",
   "execution_count": 5,
   "id": "66e322a3",
   "metadata": {},
   "outputs": [],
   "source": [
    "# your code here"
   ]
  },
  {
   "cell_type": "markdown",
   "id": "f8cee0b2",
   "metadata": {},
   "source": [
    "## Getting things from a list of dictionaries\n"
   ]
  }
 ],
 "metadata": {
  "kernelspec": {
   "display_name": "Python 3 (ipykernel)",
   "language": "python",
   "name": "python3"
  },
  "language_info": {
   "codemirror_mode": {
    "name": "ipython",
    "version": 3
   },
   "file_extension": ".py",
   "mimetype": "text/x-python",
   "name": "python",
   "nbconvert_exporter": "python",
   "pygments_lexer": "ipython3",
   "version": "3.10.9"
  }
 },
 "nbformat": 4,
 "nbformat_minor": 5
}
