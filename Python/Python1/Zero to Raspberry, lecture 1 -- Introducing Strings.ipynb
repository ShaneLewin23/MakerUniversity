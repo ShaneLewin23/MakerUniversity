{
 "cells": [
  {
   "cell_type": "markdown",
   "id": "f83c28be",
   "metadata": {},
   "source": [
    "homework # 1 = Strings\n",
    "In python there are objects called strings. A string is any type of text. This week we will be using strings."
   ]
  },
  {
   "cell_type": "code",
   "execution_count": 1,
   "id": "34272c8f",
   "metadata": {},
   "outputs": [],
   "source": [
    "\n",
    "# This is a string\n",
    "s = \"this is a string!\"\n",
    "\n",
    "# this is an integer. It is not a string\n",
    "i = 5\n",
    "\n",
    "# this is a string\n",
    "s2 = \"5\"\n",
    "\n",
    "#integer = \"0,1,2,3,4,5,6\"\n",
    "#floaty = \"1.1,1.2,1.3,1.4,...,1.9,2.1,...\"\n",
    "#string = \"234\"\n"
   ]
  },
  {
   "cell_type": "markdown",
   "id": "4073c47b",
   "metadata": {},
   "source": [
    "## Excercise 1: Multiplying Strings and Integers\n",
    "\n",
    "1.1 Multiply the the integer i by 10 and see what you get. Then multiply s2 (\"5\") by 10 and see what happens"
   ]
  },
  {
   "cell_type": "code",
   "execution_count": 1,
   "id": "71ba1df3",
   "metadata": {},
   "outputs": [],
   "source": [
    "# Do excercise 1 here.\n"
   ]
  },
  {
   "cell_type": "code",
   "execution_count": null,
   "id": "1640468c",
   "metadata": {},
   "outputs": [],
   "source": []
  },
  {
   "cell_type": "markdown",
   "id": "b629f750",
   "metadata": {},
   "source": [
    "As you can see, multiplcation works very differently for strings than it does for numbers (integers or floats).\n",
    "Strings are used in programming all the time and its essential to know how to work with them.\n",
    "\n",
    "In python, a string is a list of characters. You can access each character one at a time using indexing. To get a specific character, you type the string, followed by brackets, and the 'index' of the character you want. For example: "
   ]
  },
  {
   "cell_type": "code",
   "execution_count": 2,
   "id": "5adcd405",
   "metadata": {},
   "outputs": [
    {
     "name": "stdout",
     "output_type": "stream",
     "text": [
      "T\n"
     ]
    }
   ],
   "source": [
    "s = \"This is a string of characters!\"\n",
    "first = s[0] # the first character is zero, not 1, because python starts its 'indexing' at 0. \n",
    "print(first)"
   ]
  },
  {
   "cell_type": "code",
   "execution_count": null,
   "id": "2b9e7ac5",
   "metadata": {},
   "outputs": [],
   "source": []
  },
  {
   "cell_type": "code",
   "execution_count": 3,
   "id": "d2318d9e",
   "metadata": {},
   "outputs": [
    {
     "data": {
      "text/plain": [
       "'i'"
      ]
     },
     "execution_count": 3,
     "metadata": {},
     "output_type": "execute_result"
    }
   ],
   "source": [
    "# ...print the 6th character (remember, because it startts at zero, the sixth character is s[5], not s[6], because\n",
    "# the first 6 characters are \n",
    "# s[0], s[1], s[2], s[3], s[4], s[5] \n",
    "#the 6th character is\n",
    "s[5]"
   ]
  },
  {
   "cell_type": "markdown",
   "id": "832166d9",
   "metadata": {},
   "source": [
    "## Excercise 2: print the 2nd, 5th, and Last character. \n",
    "The last character is a '!'. "
   ]
  },
  {
   "cell_type": "code",
   "execution_count": 4,
   "id": "44fd628b",
   "metadata": {},
   "outputs": [],
   "source": [
    "# Do excercise 2 here."
   ]
  },
  {
   "cell_type": "code",
   "execution_count": null,
   "id": "05bbc6ad",
   "metadata": {},
   "outputs": [],
   "source": []
  },
  {
   "cell_type": "markdown",
   "id": "dec915e3",
   "metadata": {},
   "source": [
    "Becuase a string is a 'class'. We'll learn more about classes later, but for now what you need to know is that there are handy functions built into strings that you can get access to by typing a period after the string. For example, upper case and lower case:"
   ]
  },
  {
   "cell_type": "code",
   "execution_count": 13,
   "id": "8b7ae5d2",
   "metadata": {},
   "outputs": [
    {
     "data": {
      "text/plain": [
       "'THIS IS A STRING OF CHARACTERS!'"
      ]
     },
     "execution_count": 13,
     "metadata": {},
     "output_type": "execute_result"
    }
   ],
   "source": [
    "s.upper()"
   ]
  },
  {
   "cell_type": "code",
   "execution_count": 14,
   "id": "51384dce",
   "metadata": {},
   "outputs": [
    {
     "data": {
      "text/plain": [
       "'this is a string of characters!'"
      ]
     },
     "execution_count": 14,
     "metadata": {},
     "output_type": "execute_result"
    }
   ],
   "source": [
    "s.lower()"
   ]
  },
  {
   "cell_type": "markdown",
   "id": "fe535d64",
   "metadata": {},
   "source": [
    "If you type tab after you type \"s.\", you'll get a list of functions. Try it out.  \n",
    "\n",
    "IMPORTANT: when we typed s.upper() we didn't change s. Observe: "
   ]
  },
  {
   "cell_type": "code",
   "execution_count": 15,
   "id": "7a2b28b6",
   "metadata": {},
   "outputs": [
    {
     "name": "stdout",
     "output_type": "stream",
     "text": [
      "This is a string of characters!\n"
     ]
    }
   ],
   "source": [
    "print(s)"
   ]
  },
  {
   "cell_type": "code",
   "execution_count": 16,
   "id": "37796050",
   "metadata": {},
   "outputs": [
    {
     "data": {
      "text/plain": [
       "'THIS IS A STRING OF CHARACTERS!'"
      ]
     },
     "execution_count": 16,
     "metadata": {},
     "output_type": "execute_result"
    }
   ],
   "source": [
    "s.upper()"
   ]
  },
  {
   "cell_type": "code",
   "execution_count": 17,
   "id": "39fd581c",
   "metadata": {},
   "outputs": [
    {
     "name": "stdout",
     "output_type": "stream",
     "text": [
      "This is a string of characters!\n"
     ]
    }
   ],
   "source": [
    "print(s)"
   ]
  },
  {
   "cell_type": "markdown",
   "id": "034e7e72",
   "metadata": {},
   "source": [
    "If we want to change s we have to assign it. "
   ]
  },
  {
   "cell_type": "code",
   "execution_count": 18,
   "id": "820c7a91",
   "metadata": {},
   "outputs": [
    {
     "name": "stdout",
     "output_type": "stream",
     "text": [
      "This is a string of characters!\n"
     ]
    }
   ],
   "source": [
    "s.upper()\n",
    "print(s)"
   ]
  },
  {
   "cell_type": "code",
   "execution_count": 19,
   "id": "3d362ddd",
   "metadata": {},
   "outputs": [
    {
     "name": "stdout",
     "output_type": "stream",
     "text": [
      "THIS IS A STRING OF CHARACTERS!\n"
     ]
    }
   ],
   "source": [
    "s = s.upper()\n",
    "print(s)"
   ]
  },
  {
   "cell_type": "markdown",
   "id": "f13213f7",
   "metadata": {},
   "source": [
    "Make sure you understand what happened above, or ask for help if you dont. "
   ]
  },
  {
   "cell_type": "markdown",
   "id": "50cffbba",
   "metadata": {},
   "source": [
    "## Excercise 3: Capitalizing strings.  \n",
    "3.1 Create a string, print it, then permanently change it to upper case. Print that, then change it back to lower case and print that again.  \n"
   ]
  },
  {
   "cell_type": "code",
   "execution_count": 24,
   "id": "0fd93c8b",
   "metadata": {},
   "outputs": [],
   "source": [
    "# do excercise 3 here"
   ]
  },
  {
   "cell_type": "code",
   "execution_count": null,
   "id": "4aaab9e3",
   "metadata": {},
   "outputs": [],
   "source": []
  },
  {
   "cell_type": "code",
   "execution_count": null,
   "id": "68510078",
   "metadata": {},
   "outputs": [],
   "source": []
  },
  {
   "cell_type": "markdown",
   "id": "5445e885",
   "metadata": {},
   "source": [
    "#### Slicing \n",
    "On last thing we need to talk about is slicing strings. Above we learned you can grab a specific character in a string. Python allows you do do a lot more than that: you can get a slice of characters from a string. To do that you use the colon (:) notation. Lets do some examples"
   ]
  },
  {
   "cell_type": "code",
   "execution_count": 26,
   "id": "568b2186",
   "metadata": {},
   "outputs": [
    {
     "name": "stdout",
     "output_type": "stream",
     "text": [
      "this\n"
     ]
    }
   ],
   "source": [
    "s = \"this is a string thats kind of like a sentence.\"\n",
    "slc = s[0:4]\n",
    "print(slc)"
   ]
  },
  {
   "cell_type": "markdown",
   "id": "d462f296",
   "metadata": {},
   "source": [
    "What happened above is s[0:4] returned the first 4 characters of s (specifically, we told python to take all the characters from the 0th position to the 3rd position in the string and make slc equal to that). You can do all sorts of slices. "
   ]
  },
  {
   "cell_type": "code",
   "execution_count": 61,
   "id": "c92a457a",
   "metadata": {},
   "outputs": [
    {
     "name": "stdout",
     "output_type": "stream",
     "text": [
      "hi\n"
     ]
    }
   ],
   "source": [
    "print(s[1:3])"
   ]
  },
  {
   "cell_type": "code",
   "execution_count": 28,
   "id": "778776a9",
   "metadata": {},
   "outputs": [
    {
     "name": "stdout",
     "output_type": "stream",
     "text": [
      "is a \n"
     ]
    }
   ],
   "source": [
    "print(s[5:10])"
   ]
  },
  {
   "cell_type": "code",
   "execution_count": 30,
   "id": "3728e18c",
   "metadata": {},
   "outputs": [
    {
     "name": "stdout",
     "output_type": "stream",
     "text": [
      "is a string thats kind of like a sentence.\n"
     ]
    }
   ],
   "source": [
    "print(s[5:200])"
   ]
  },
  {
   "cell_type": "code",
   "execution_count": 31,
   "id": "f921a934",
   "metadata": {},
   "outputs": [
    {
     "name": "stdout",
     "output_type": "stream",
     "text": [
      "is a string thats kind of like a sentence.\n"
     ]
    }
   ],
   "source": [
    "print(s[5:1000])"
   ]
  },
  {
   "cell_type": "markdown",
   "id": "97e86007",
   "metadata": {},
   "source": [
    "As you can see, if you go past the end of the string in a slice it just gives you the last character. This is not true with getting a character, though:"
   ]
  },
  {
   "cell_type": "code",
   "execution_count": 32,
   "id": "5a12cf27",
   "metadata": {},
   "outputs": [
    {
     "ename": "IndexError",
     "evalue": "string index out of range",
     "output_type": "error",
     "traceback": [
      "\u001b[0;31m---------------------------------------------------------------------------\u001b[0m",
      "\u001b[0;31mIndexError\u001b[0m                                Traceback (most recent call last)",
      "Input \u001b[0;32mIn [32]\u001b[0m, in \u001b[0;36m<cell line: 1>\u001b[0;34m()\u001b[0m\n\u001b[0;32m----> 1\u001b[0m \u001b[43ms\u001b[49m\u001b[43m[\u001b[49m\u001b[38;5;241;43m233\u001b[39;49m\u001b[43m]\u001b[49m\n",
      "\u001b[0;31mIndexError\u001b[0m: string index out of range"
     ]
    }
   ],
   "source": [
    "s[233]\n",
    "#this mistake is on purpose"
   ]
  },
  {
   "cell_type": "markdown",
   "id": "88e8d92c",
   "metadata": {},
   "source": [
    "One last thing with strings: You can create new strings by adding other strings togther. "
   ]
  },
  {
   "cell_type": "code",
   "execution_count": 33,
   "id": "a9e1cdbe",
   "metadata": {},
   "outputs": [
    {
     "name": "stdout",
     "output_type": "stream",
     "text": [
      "the meaning of life is 42\n"
     ]
    }
   ],
   "source": [
    "s1 = \"the meaning of life is \"\n",
    "s2 = \"42\"\n",
    "print(s1 + s2)"
   ]
  },
  {
   "cell_type": "markdown",
   "id": "bf3dea19",
   "metadata": {},
   "source": [
    "# Problems\n",
    "1. Create a string\n",
    "2. find out what the last character in your new string without counting\n",
    "3. Create a new string composed of the first, 3rd, and last character of that string\n",
    "4. make a string that repeats the word puppy 200 times.\n",
    "5. l = \"hello!\" print the last character of l. \n",
    "6. Take the following string and reverse it, adding 3 copies of the middle word in the center, and all caps it.\n",
    "\n",
    "p = \"this is a sentence in the right order\"\n",
    "Needs to be \n",
    "\"ORDER RIGHT THE IN IN IN SENTENCE A IS THIS\"\n",
    "\n",
    "You have to do all of the above using slicing, addition, and multiplication of strings.\n",
    "... tell your self how to do this for extra memory.\n",
    "... Do this practice a coupl vgte of times for extra practice."
   ]
  },
  {
   "cell_type": "code",
   "execution_count": 5,
   "id": "f78dcc15",
   "metadata": {},
   "outputs": [],
   "source": [
    "# answer here. Note that you can use the len(length) command to figure out how long a string is."
   ]
  },
  {
   "cell_type": "code",
   "execution_count": null,
   "id": "6856a352",
   "metadata": {},
   "outputs": [],
   "source": []
  },
  {
   "cell_type": "code",
   "execution_count": null,
   "id": "fb7d7918",
   "metadata": {},
   "outputs": [],
   "source": []
  },
  {
   "cell_type": "code",
   "execution_count": null,
   "id": "342e9f48",
   "metadata": {},
   "outputs": [],
   "source": []
  },
  {
   "cell_type": "code",
   "execution_count": null,
   "id": "05d1d774",
   "metadata": {},
   "outputs": [],
   "source": []
  },
  {
   "cell_type": "code",
   "execution_count": null,
   "id": "aa58a08c",
   "metadata": {},
   "outputs": [],
   "source": []
  },
  {
   "cell_type": "code",
   "execution_count": null,
   "id": "41344121",
   "metadata": {},
   "outputs": [],
   "source": []
  },
  {
   "cell_type": "code",
   "execution_count": null,
   "id": "691e35ca",
   "metadata": {},
   "outputs": [],
   "source": []
  },
  {
   "cell_type": "code",
   "execution_count": null,
   "id": "e945be10",
   "metadata": {},
   "outputs": [],
   "source": []
  }
 ],
 "metadata": {
  "kernelspec": {
   "display_name": "Python 3 (ipykernel)",
   "language": "python",
   "name": "python3"
  },
  "language_info": {
   "codemirror_mode": {
    "name": "ipython",
    "version": 3
   },
   "file_extension": ".py",
   "mimetype": "text/x-python",
   "name": "python",
   "nbconvert_exporter": "python",
   "pygments_lexer": "ipython3",
   "version": "3.9.12"
  }
 },
 "nbformat": 4,
 "nbformat_minor": 5
}
