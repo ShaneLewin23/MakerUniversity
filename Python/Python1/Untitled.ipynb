{
 "cells": [
  {
   "cell_type": "code",
   "execution_count": 15,
   "id": "853be5f8",
   "metadata": {},
   "outputs": [],
   "source": [
    "import numpy as np\n",
    "from matplotlib import pyplot as plt\n",
    "from uuid import uuid4"
   ]
  },
  {
   "cell_type": "code",
   "execution_count": null,
   "id": "d41ff1a9",
   "metadata": {},
   "outputs": [],
   "source": []
  },
  {
   "cell_type": "code",
   "execution_count": 13,
   "id": "34e3bca4",
   "metadata": {},
   "outputs": [],
   "source": [
    "y = np.random.normal(loc=5., size=500)\n",
    "x = np.linspace(0., 10., num=len(y))"
   ]
  },
  {
   "cell_type": "code",
   "execution_count": 21,
   "id": "1d6cebf7",
   "metadata": {},
   "outputs": [],
   "source": [
    "# generate a list of 500 genes\n",
    "def genGeneList(n):\n",
    "    genes = []\n",
    "    for _ in range(n):\n",
    "        genename = str(uuid4()).split('-')[0]\n",
    "        genes.append(genename)\n",
    "    return genes\n",
    "genes = genGeneList(100)"
   ]
  },
  {
   "cell_type": "code",
   "execution_count": 25,
   "id": "62276904",
   "metadata": {},
   "outputs": [
    {
     "data": {
      "text/plain": [
       "{'A': None, 'B': None, 'M': None}"
      ]
     },
     "execution_count": 25,
     "metadata": {},
     "output_type": "execute_result"
    }
   ],
   "source": [
    "class Edge: \n",
    "    '''\n",
    "    Edge is of the form A acts on B through Mechanism M resulting \n",
    "    in function X.\n",
    "    '''\n",
    "    \n",
    "    def __init__(self): \n",
    "        self.A = None\n",
    "        self.B = None\n",
    "        self.M = None\n",
    "\n",
    "e = Edge()\n",
    "e.__dict__"
   ]
  },
  {
   "cell_type": "markdown",
   "id": "6ae3076a",
   "metadata": {},
   "source": [
    "# Mechanisms\n",
    "\n",
    "1. Expression of Gene A results in Inhibition of Gene B\n",
    "2. Expression of Gene A resuults in "
   ]
  }
 ],
 "metadata": {
  "kernelspec": {
   "display_name": "Python 3 (ipykernel)",
   "language": "python",
   "name": "python3"
  },
  "language_info": {
   "codemirror_mode": {
    "name": "ipython",
    "version": 3
   },
   "file_extension": ".py",
   "mimetype": "text/x-python",
   "name": "python",
   "nbconvert_exporter": "python",
   "pygments_lexer": "ipython3",
   "version": "3.9.12"
  }
 },
 "nbformat": 4,
 "nbformat_minor": 5
}
