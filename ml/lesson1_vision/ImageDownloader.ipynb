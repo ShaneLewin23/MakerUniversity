{
 "cells": [
  {
   "cell_type": "code",
   "execution_count": 1,
   "id": "705dc5b2-fb74-40fd-b30d-c89ccac4a48a",
   "metadata": {},
   "outputs": [
    {
     "name": "stderr",
     "output_type": "stream",
     "text": [
      "/Users/shanelewin/env/sci/lib/python3.9/site-packages/urllib3/__init__.py:35: NotOpenSSLWarning: urllib3 v2 only supports OpenSSL 1.1.1+, currently the 'ssl' module is compiled with 'LibreSSL 2.8.3'. See: https://github.com/urllib3/urllib3/issues/3020\n",
      "  warnings.warn(\n"
     ]
    }
   ],
   "source": [
    "import os\n",
    "import requests\n",
    "from duckduckgo_search import DDGS\n",
    "from tqdm import tqdm"
   ]
  },
  {
   "cell_type": "code",
   "execution_count": 2,
   "id": "64382cbf-4857-4512-9ddd-70c4eb44e3ba",
   "metadata": {},
   "outputs": [],
   "source": [
    "def download_duckduckgo_images(query, save_folder, num_images=100):\n",
    "    # Create save folder if not exists\n",
    "    if not os.path.exists(save_folder):\n",
    "        os.makedirs(save_folder)\n",
    "\n",
    "    # Fetch image URLs from DuckDuckGo\n",
    "    urls = []\n",
    "    with DDGS() as ddgs:\n",
    "        for result in ddgs.images(query, max_results=num_images):\n",
    "            urls.append(result[\"image\"])\n",
    "\n",
    "    print(f\"Found {len(urls)} images for '{query}'.\")\n",
    "\n",
    "    # Download images\n",
    "    for i, url in tqdm(enumerate(urls, 1), total=len(urls), desc=\"Downloading\"):\n",
    "        try:\n",
    "            response = requests.get(url, stream=True, timeout=10)\n",
    "            response.raise_for_status()\n",
    "            ext = url.split('.')[-1].split('?')[0]  # Get file extension\n",
    "            ext = ext if ext.lower() in [\"jpg\", \"jpeg\", \"png\"] else \"jpg\"  # Default to jpg\n",
    "            file_path = os.path.join(save_folder, f\"{query}_{i}.{ext}\")\n",
    "\n",
    "            with open(file_path, \"wb\") as file:\n",
    "                for chunk in response.iter_content(1024):\n",
    "                    file.write(chunk)\n",
    "        except requests.exceptions.RequestException as e:\n",
    "            print(f\"Failed to download {url}: {e}\")\n",
    "\n",
    "    print(f\"Downloaded {i} images to '{save_folder}'.\")"
   ]
  },
  {
   "cell_type": "code",
   "execution_count": 5,
   "id": "54ae174d-240f-4bb6-925e-87df2cc499f7",
   "metadata": {},
   "outputs": [
    {
     "name": "stdout",
     "output_type": "stream",
     "text": [
      "Found 100 images for 'faces'.\n"
     ]
    },
    {
     "name": "stderr",
     "output_type": "stream",
     "text": [
      "Downloading:  12%|███▌                          | 12/100 [00:07<00:34,  2.55it/s]"
     ]
    },
    {
     "name": "stdout",
     "output_type": "stream",
     "text": [
      "Failed to download https://www.ukmodels.co.uk/wp-content/uploads/2015/05/shutterstock_141020404.jpg: 403 Client Error: Forbidden for url: https://www.ukmodels.co.uk/wp-content/uploads/2015/05/shutterstock_141020404.jpg\n",
      "Failed to download https://3.bp.blogspot.com/-CY_AD0wD3mI/ToyNCmDEUnI/AAAAAAAABtk/1Vrl1nC4bac/s1600/Most_Beautiful_Face.jpg: HTTPSConnectionPool(host='3.bp.blogspot.com', port=443): Max retries exceeded with url: /-CY_AD0wD3mI/ToyNCmDEUnI/AAAAAAAABtk/1Vrl1nC4bac/s1600/Most_Beautiful_Face.jpg (Caused by SSLError(SSLError(1, '[SSL: WRONG_VERSION_NUMBER] wrong version number (_ssl.c:1129)')))\n"
     ]
    },
    {
     "name": "stderr",
     "output_type": "stream",
     "text": [
      "Downloading:  50%|███████████████               | 50/100 [00:30<00:33,  1.51it/s]"
     ]
    },
    {
     "name": "stdout",
     "output_type": "stream",
     "text": [
      "Failed to download http://www.authenticityassociates.com/wp-content/uploads/2012/08/EmotionsAreEnergy1.jpg: 403 Client Error: Forbidden for url: http://www.authenticityassociates.com/wp-content/uploads/2012/08/EmotionsAreEnergy1.jpg\n",
      "Failed to download https://www.crushpixel.com/big-static11/preview4/collage-faces-women-with-different-717006.jpg: 403 Client Error: Forbidden for url: https://www.crushpixel.com/big-static11/preview4/collage-faces-women-with-different-717006.jpg\n"
     ]
    },
    {
     "name": "stderr",
     "output_type": "stream",
     "text": [
      "Downloading:  68%|████████████████████▍         | 68/100 [00:41<00:21,  1.51it/s]"
     ]
    },
    {
     "name": "stdout",
     "output_type": "stream",
     "text": [
      "Failed to download https://tty-art.com/file/2020/01/Generated-Faces-by-AI-Young-WoMen-V1-003-1.jpg: 403 Client Error: Forbidden for url: https://tty-art.com/file/2020/01/Generated-Faces-by-AI-Young-WoMen-V1-003-1.jpg\n"
     ]
    },
    {
     "name": "stderr",
     "output_type": "stream",
     "text": [
      "Downloading:  76%|██████████████████████▊       | 76/100 [00:46<00:17,  1.39it/s]"
     ]
    },
    {
     "name": "stdout",
     "output_type": "stream",
     "text": [
      "Failed to download https://familiescourse.com/wp-content/uploads/2022/05/Faces.jpg: 403 Client Error: Forbidden for url: https://familiescourse.com/wp-content/uploads/2022/05/Faces.jpg\n"
     ]
    },
    {
     "name": "stderr",
     "output_type": "stream",
     "text": [
      "Downloading:  89%|██████████████████████████▋   | 89/100 [00:51<00:03,  3.42it/s]"
     ]
    },
    {
     "name": "stdout",
     "output_type": "stream",
     "text": [
      "Failed to download https://singersroom.com/wp-content/uploads/2023/03/Best-The-Faces-Songs-of-All-Time.jpg: 403 Client Error: Forbidden for url: https://singersroom.com/wp-content/uploads/2023/03/Best-The-Faces-Songs-of-All-Time.jpg\n"
     ]
    },
    {
     "name": "stderr",
     "output_type": "stream",
     "text": [
      "Downloading: 100%|█████████████████████████████| 100/100 [00:54<00:00,  1.82it/s]"
     ]
    },
    {
     "name": "stdout",
     "output_type": "stream",
     "text": [
      "Downloaded 100 images to './data/test'.\n"
     ]
    },
    {
     "name": "stderr",
     "output_type": "stream",
     "text": [
      "\n"
     ]
    }
   ],
   "source": [
    "query = \"faces\"\n",
    "save_folder = \"./data/test\"\n",
    "download_duckduckgo_images(query, save_folder)"
   ]
  },
  {
   "cell_type": "code",
   "execution_count": null,
   "id": "b6a36e73-54ba-444a-a179-15e0c253f1e5",
   "metadata": {},
   "outputs": [],
   "source": []
  }
 ],
 "metadata": {
  "kernelspec": {
   "display_name": "Python 3 (ipykernel)",
   "language": "python",
   "name": "python3"
  },
  "language_info": {
   "codemirror_mode": {
    "name": "ipython",
    "version": 3
   },
   "file_extension": ".py",
   "mimetype": "text/x-python",
   "name": "python",
   "nbconvert_exporter": "python",
   "pygments_lexer": "ipython3",
   "version": "3.9.6"
  }
 },
 "nbformat": 4,
 "nbformat_minor": 5
}
