{
 "cells": [
  {
   "cell_type": "markdown",
   "id": "a9eb38df",
   "metadata": {},
   "source": [
    "# Find the height of an object by dropping a ball off the top\n",
    "From physics, we know the position of an object dropped from a height will accelerate from rest until it hits the ground by the force of gravity, given by $9.8\\ \\text{m/s}^2$. Using a little calculus, we can figure out the equation of the height of a function by taking the integral twice. You don't need to know how to do this, but its cool to see how its done: \n",
    "\n",
    "### Acceleration is equal to 9.8 m/s squared (negative b/c gravity is pulling down)\n",
    "$$ a = -9.8\\ \\text{m/s}^2 = -9.8$$\n",
    "\n",
    "Velicity is found by taking the integral over time of acceleration: \n",
    "$$ v = \\int{a}\\ dt = \\int{-9.8}dt = -9.8t + v_0 $$\n",
    "\n",
    "In this case the $a_0$ term is the initial acceleration. Dont worry about how we solved that integral, thats a topic for high school. \n",
    "\n",
    "Now if we take the integral of velocity with respect to time, we get position, in this case height. Hell yeah.  \n",
    "\n",
    "$$ h = \\int{v}\\ dt = -\\frac{1}{2}9.8t^2 + v_0 t + h_0 $$\n",
    "\n",
    "#### The equation you need to know is the one on the right: \n",
    "$$ h = -\\frac{1}{2}9.8t^2 + v_0 t + h_0 $$\n",
    "Where $t$ is the time, $v_0$ is the initial velocity, $h_0$ is the initial height. \n",
    "\n",
    "So what does all this mean? Well, if you're dropping a ball from an edge, $h_0$ is the initial height of the edge, $v_0$ is the initial speed you drop it, $t$ is the time at which you measure somethign, and $h$ is the height when you measure it.  So lets do an example\n",
    "\n",
    "## Example 1: what is the height the ball will be after 3 seconds if you drop it off a 200 meter cliff? \n",
    "You're dropping it, so the initial velocity ($v_0$) is 0. The initial height $h_0$ is 200 meters. And we care about what happens when time $t$ is 3s, so we have everything we need to solve this. \n",
    "\n",
    "We're looking for $h$ and we have everything else: \n",
    "$$ h = -9.8\\text{m/s}*3^2 + 0\\text{m/s}*3 + 200\\text{m}$$\n",
    "(remember in python, $3^2$ is expressed as 3**2)"
   ]
  },
  {
   "cell_type": "code",
   "execution_count": 2,
   "id": "78dcaabf",
   "metadata": {},
   "outputs": [
    {
     "name": "stdout",
     "output_type": "stream",
     "text": [
      "111.8\n"
     ]
    }
   ],
   "source": [
    "h = -9.8*3**2 + 0*3 + 200\n",
    "print(h)"
   ]
  },
  {
   "cell_type": "markdown",
   "id": "74d17ce2",
   "metadata": {},
   "source": [
    "## Problem 1: Find the height of a house if, when you drop a ball off the edge, it takes 5.3 seconds to hit the ground\n",
    "\n",
    "$$0 = -9.8\\cdot5.3^2 + 0 + h_0$$"
   ]
  },
  {
   "cell_type": "code",
   "execution_count": 6,
   "id": "d6223fc3",
   "metadata": {},
   "outputs": [
    {
     "name": "stdout",
     "output_type": "stream",
     "text": [
      "275.28200000000004\n"
     ]
    }
   ],
   "source": [
    "h0=9.8*5.3**2\n",
    "print(h0)"
   ]
  },
  {
   "cell_type": "markdown",
   "id": "98826733",
   "metadata": {},
   "source": [
    "## Problem 2: Find the height of a house if you throw a ball off the edge straight down at 12 m/s and it hits the ground 1 second later"
   ]
  },
  {
   "cell_type": "code",
   "execution_count": 8,
   "id": "b44b7fbc",
   "metadata": {},
   "outputs": [
    {
     "name": "stdout",
     "output_type": "stream",
     "text": [
      "21.8\n"
     ]
    }
   ],
   "source": [
    "v0=12\n",
    "h0=9.8*1**2+v0*1\n",
    "print(h0)"
   ]
  },
  {
   "cell_type": "markdown",
   "id": "82c5cea5",
   "metadata": {},
   "source": [
    "## Problem 3: If you throw a ball off a 220 foot cliff straight down, as hard as you can, and it hits the ground 4.3 seconds later, how fast did you throw the ball? "
   ]
  },
  {
   "cell_type": "code",
   "execution_count": null,
   "id": "26598222",
   "metadata": {},
   "outputs": [],
   "source": [
    "h0=220\n",
    "t=4.3"
   ]
  }
 ],
 "metadata": {
  "kernelspec": {
   "display_name": "science",
   "language": "python",
   "name": "science"
  },
  "language_info": {
   "codemirror_mode": {
    "name": "ipython",
    "version": 3
   },
   "file_extension": ".py",
   "mimetype": "text/x-python",
   "name": "python",
   "nbconvert_exporter": "python",
   "pygments_lexer": "ipython3",
   "version": "3.9.7"
  }
 },
 "nbformat": 4,
 "nbformat_minor": 5
}
