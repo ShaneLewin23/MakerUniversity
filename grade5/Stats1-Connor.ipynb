{
 "cells": [
  {
   "cell_type": "code",
   "execution_count": 1,
   "id": "d9fa4ff7",
   "metadata": {},
   "outputs": [],
   "source": [
    "import numpy as np\n",
    "import math"
   ]
  },
  {
   "cell_type": "markdown",
   "id": "dfdb7c87",
   "metadata": {},
   "source": [
    "# Stats\n",
    "Require you to check your work. \n",
    "\n",
    "#### 1. Find the percent decrease if your investment was at \\\\$2,500 in the begining of year and is now \\\\$1875.00. \n"
   ]
  },
  {
   "cell_type": "code",
   "execution_count": 9,
   "id": "f9bd4d08",
   "metadata": {},
   "outputs": [
    {
     "data": {
      "text/plain": [
       "0.25"
      ]
     },
     "execution_count": 9,
     "metadata": {},
     "output_type": "execute_result"
    }
   ],
   "source": [
    "1-(1875/2500)"
   ]
  },
  {
   "cell_type": "code",
   "execution_count": 12,
   "id": "f41a6b9f",
   "metadata": {},
   "outputs": [
    {
     "data": {
      "text/plain": [
       "1875.0"
      ]
     },
     "execution_count": 12,
     "metadata": {},
     "output_type": "execute_result"
    }
   ],
   "source": [
    "2500*(1-0.25)\n",
    "#Correct"
   ]
  },
  {
   "cell_type": "markdown",
   "id": "625f79dd",
   "metadata": {},
   "source": [
    "#### 2. Find the percent increase you need to get your account up to the original amount? "
   ]
  },
  {
   "cell_type": "code",
   "execution_count": 20,
   "id": "e702efee",
   "metadata": {},
   "outputs": [
    {
     "data": {
      "text/plain": [
       "0.3333333333333333"
      ]
     },
     "execution_count": 20,
     "metadata": {},
     "output_type": "execute_result"
    }
   ],
   "source": [
    "625/1875"
   ]
  },
  {
   "cell_type": "code",
   "execution_count": 23,
   "id": "010a1779",
   "metadata": {},
   "outputs": [
    {
     "data": {
      "text/plain": [
       "2500.0"
      ]
     },
     "execution_count": 23,
     "metadata": {},
     "output_type": "execute_result"
    }
   ],
   "source": [
    "1875*1.33333333333333333333333333333333333333333\n",
    "#Correct"
   ]
  },
  {
   "cell_type": "markdown",
   "id": "f3b01024",
   "metadata": {},
   "source": [
    "#### 3. 2% of the students in yours school have red hair. If there are 1500 students, how many do not have red hair? "
   ]
  },
  {
   "cell_type": "code",
   "execution_count": 24,
   "id": "8f2ed316",
   "metadata": {},
   "outputs": [
    {
     "data": {
      "text/plain": [
       "1470.0"
      ]
     },
     "execution_count": 24,
     "metadata": {},
     "output_type": "execute_result"
    }
   ],
   "source": [
    "#2%=0.02\n",
    "(1-0.02)*1500"
   ]
  },
  {
   "cell_type": "code",
   "execution_count": 26,
   "id": "5b29b005",
   "metadata": {},
   "outputs": [
    {
     "data": {
      "text/plain": [
       "1500.0"
      ]
     },
     "execution_count": 26,
     "metadata": {},
     "output_type": "execute_result"
    }
   ],
   "source": [
    "#Num of people with Red hair:\n",
    "(1500*0.02)+1470\n",
    "#Correct"
   ]
  },
  {
   "cell_type": "markdown",
   "id": "9ef745bf",
   "metadata": {},
   "source": [
    "#### 4. A concert hall has 400 seats, of which 325 are occupied. What percent of the seats are at capacity?"
   ]
  },
  {
   "cell_type": "code",
   "execution_count": 27,
   "id": "fb942259",
   "metadata": {},
   "outputs": [
    {
     "data": {
      "text/plain": [
       "0.8125"
      ]
     },
     "execution_count": 27,
     "metadata": {},
     "output_type": "execute_result"
    }
   ],
   "source": [
    "325/400\n",
    "#Or 81.25%"
   ]
  },
  {
   "cell_type": "code",
   "execution_count": 29,
   "id": "447ec505",
   "metadata": {},
   "outputs": [
    {
     "data": {
      "text/plain": [
       "325.0"
      ]
     },
     "execution_count": 29,
     "metadata": {},
     "output_type": "execute_result"
    }
   ],
   "source": [
    "(400/100)*81.25\n",
    "#Correct"
   ]
  },
  {
   "cell_type": "markdown",
   "id": "e9d7f492",
   "metadata": {},
   "source": [
    "#### 5. 71% of the earth's surface--that's about 362,100,000 square kilometers--is covered by water. Use this information to find the total surface area of the earth."
   ]
  },
  {
   "cell_type": "code",
   "execution_count": 32,
   "id": "4f000733",
   "metadata": {},
   "outputs": [
    {
     "data": {
      "text/plain": [
       "510000000.0"
      ]
     },
     "execution_count": 32,
     "metadata": {},
     "output_type": "execute_result"
    }
   ],
   "source": [
    "(362100000/71)*100"
   ]
  },
  {
   "cell_type": "code",
   "execution_count": 34,
   "id": "f1c3d29a",
   "metadata": {},
   "outputs": [
    {
     "data": {
      "text/plain": [
       "362100000.0"
      ]
     },
     "execution_count": 34,
     "metadata": {},
     "output_type": "execute_result"
    }
   ],
   "source": [
    "#71%=0.71\n",
    "0.71*510000000\n",
    "#Correct"
   ]
  },
  {
   "cell_type": "markdown",
   "id": "98d36e1d",
   "metadata": {},
   "source": [
    "#### 6. If global warming is going to increase the percent of the earth covered by water by 12\\\\%, how much land will be left? "
   ]
  },
  {
   "cell_type": "code",
   "execution_count": 36,
   "id": "37bb154c",
   "metadata": {},
   "outputs": [
    {
     "data": {
      "text/plain": [
       "86700000.0"
      ]
     },
     "execution_count": 36,
     "metadata": {},
     "output_type": "execute_result"
    }
   ],
   "source": [
    "#71%=0.71\n",
    "#12%=0.12\n",
    "510000000-((0.71+0.12)*510000000)"
   ]
  },
  {
   "cell_type": "code",
   "execution_count": 38,
   "id": "2f70725e",
   "metadata": {},
   "outputs": [
    {
     "data": {
      "text/plain": [
       "362100000.0"
      ]
     },
     "execution_count": 38,
     "metadata": {},
     "output_type": "execute_result"
    }
   ],
   "source": [
    "((0.71+0.12)*510000000)-(0.12*510000000)\n",
    "#362100000.0 is the amount of water previously, so the answer is correct. "
   ]
  },
  {
   "cell_type": "markdown",
   "id": "f6f2708f",
   "metadata": {},
   "source": [
    "#### 7. Students in sammamish were asked about their opinion of dad statistics problems. 12% said \"Good\", 54% said \"Bad\", and the rest said \"No opinion\". If 650 people were surveyed, how many said \"No opinion\"?\n"
   ]
  },
  {
   "cell_type": "code",
   "execution_count": 50,
   "id": "dfcfbb76",
   "metadata": {},
   "outputs": [
    {
     "data": {
      "text/plain": [
       "220.99999999999997"
      ]
     },
     "execution_count": 50,
     "metadata": {},
     "output_type": "execute_result"
    }
   ],
   "source": [
    "(1-(0.12+0.54))*650\n",
    "#Basically 221\n",
    "#0.12+0.54=0.66, 1-0.66=0.34"
   ]
  },
  {
   "cell_type": "code",
   "execution_count": 52,
   "id": "b45bcad4",
   "metadata": {},
   "outputs": [
    {
     "data": {
      "text/plain": [
       "650.0"
      ]
     },
     "execution_count": 52,
     "metadata": {},
     "output_type": "execute_result"
    }
   ],
   "source": [
    "(221/34)*100\n",
    "#Correct"
   ]
  },
  {
   "cell_type": "markdown",
   "id": "a0b7830a",
   "metadata": {},
   "source": [
    "#### 8. The next year, 15\\\\% said good and 51\\\\% said bad. What is the percent increase of people who said good and bad? "
   ]
  },
  {
   "cell_type": "code",
   "execution_count": 70,
   "id": "3c8a54a1",
   "metadata": {},
   "outputs": [
    {
     "data": {
      "text/plain": [
       "0.25"
      ]
     },
     "execution_count": 70,
     "metadata": {},
     "output_type": "execute_result"
    }
   ],
   "source": [
    "#12%*x=15% or 0.12*x=0.15\n",
    "x=0.15/0.12\n",
    "#Now the increase is x-100%, 0r 1\n",
    "x-1\n",
    "#0.25=25%, so its a 25% increase\n",
    "\n"
   ]
  },
  {
   "cell_type": "code",
   "execution_count": 69,
   "id": "14f8d809",
   "metadata": {},
   "outputs": [
    {
     "data": {
      "text/plain": [
       "-0.05555555555555558"
      ]
     },
     "execution_count": 69,
     "metadata": {},
     "output_type": "execute_result"
    }
   ],
   "source": [
    "#54%*x=51% or 0.54*x=0.51\n",
    "x=0.51/0.54\n",
    "#The increase is x-100% or 1\n",
    "xbutreal=0.51/0.54-1\n",
    "#-0.0555555555555558=-5.5555555555555558% which is basically equivalent to -5.56%\n",
    "#Though, the number decreased so its actually xbutreal*-1\n",
    "xbutrealreallythistime=xbutreal\n",
    "xbutrealreallythistime"
   ]
  },
  {
   "cell_type": "code",
   "execution_count": 73,
   "id": "260869f5",
   "metadata": {},
   "outputs": [
    {
     "data": {
      "text/plain": [
       "0.25"
      ]
     },
     "execution_count": 73,
     "metadata": {},
     "output_type": "execute_result"
    }
   ],
   "source": [
    "#Since x= 0.25 and 0.12*x=0.15, then 0.15/0.12-1 should get us x\n",
    "0.15/0.12-1\n",
    "#Correct"
   ]
  },
  {
   "cell_type": "code",
   "execution_count": 74,
   "id": "8bab1ee4",
   "metadata": {},
   "outputs": [
    {
     "data": {
      "text/plain": [
       "-0.05555555555555558"
      ]
     },
     "execution_count": 74,
     "metadata": {},
     "output_type": "execute_result"
    }
   ],
   "source": [
    "#Since 0.54*x=0.51, then 0.51/0.54-1 should get us x\n",
    "0.51/0.54-1\n",
    "#Since that was our x, our answer is correct\n",
    "#Correct"
   ]
  },
  {
   "cell_type": "markdown",
   "id": "772064db",
   "metadata": {},
   "source": [
    "#### Jamie, connor and Samuel spend 25% of their waking time playing video games, 50% arguing, and 25% doing homework. Their data needs them to spend at least 44% of their time studying. What do they need to reduce to get to the required number? (multiple answers)"
   ]
  },
  {
   "cell_type": "code",
   "execution_count": 79,
   "id": "ca0ee231",
   "metadata": {},
   "outputs": [
    {
     "data": {
      "text/plain": [
       "6"
      ]
     },
     "execution_count": 79,
     "metadata": {},
     "output_type": "execute_result"
    }
   ],
   "source": [
    "50-44\n",
    "#Since you can take 44% from 50%, you can just subtract that. Thus, you can just take away 46% of our time(That we would have spent arguing) and add 46% to the time studying. 50-44=6, so we would only spend 6% of our time arguing"
   ]
  },
  {
   "cell_type": "code",
   "execution_count": 81,
   "id": "29a9ca98",
   "metadata": {},
   "outputs": [
    {
     "data": {
      "text/plain": [
       "100"
      ]
     },
     "execution_count": 81,
     "metadata": {},
     "output_type": "execute_result"
    }
   ],
   "source": [
    "25+6+44+25\n",
    "#Since it totals out to 100, and all of the numbers were percents, that means that our answer checks out.\n",
    "#Correct"
   ]
  }
 ],
 "metadata": {
  "kernelspec": {
   "display_name": "Python 3",
   "language": "python",
   "name": "python3"
  },
  "language_info": {
   "codemirror_mode": {
    "name": "ipython",
    "version": 3
   },
   "file_extension": ".py",
   "mimetype": "text/x-python",
   "name": "python",
   "nbconvert_exporter": "python",
   "pygments_lexer": "ipython3",
   "version": "3.8.8"
  }
 },
 "nbformat": 4,
 "nbformat_minor": 5
}
