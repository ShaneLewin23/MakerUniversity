{
 "cells": [
  {
   "cell_type": "code",
   "execution_count": 1,
   "id": "d9fa4ff7",
   "metadata": {},
   "outputs": [],
   "source": [
    "import numpy as np\n",
    "import math"
   ]
  },
  {
   "cell_type": "markdown",
   "id": "dfdb7c87",
   "metadata": {},
   "source": [
    "# Stats\n",
    "Require you to check your work. \n",
    "\n",
    "#### 1. Find the percent decrease if your investment was at \\\\$2,500 in the begining of year and is now \\\\$1875.00. \n"
   ]
  },
  {
   "cell_type": "code",
   "execution_count": 1,
   "id": "f9bd4d08",
   "metadata": {},
   "outputs": [
    {
     "data": {
      "text/plain": [
       "0.75"
      ]
     },
     "execution_count": 1,
     "metadata": {},
     "output_type": "execute_result"
    }
   ],
   "source": [
    "# 2500*x = 1875\n",
    "x = 1875/2500\n",
    "x"
   ]
  },
  {
   "cell_type": "markdown",
   "id": "db16c5a3",
   "metadata": {},
   "source": [
    "We find that 1875 is 75% of 2500. So the decrease must be 25%. \n",
    "\n",
    "Check my work: "
   ]
  },
  {
   "cell_type": "code",
   "execution_count": 2,
   "id": "08cc84c3",
   "metadata": {},
   "outputs": [
    {
     "data": {
      "text/plain": [
       "1875.0"
      ]
     },
     "execution_count": 2,
     "metadata": {},
     "output_type": "execute_result"
    }
   ],
   "source": [
    "2500 - 2500*.25"
   ]
  },
  {
   "cell_type": "markdown",
   "id": "625f79dd",
   "metadata": {},
   "source": [
    "#### 2. Find the percent increase you need to get your account up to the original amount? "
   ]
  },
  {
   "cell_type": "code",
   "execution_count": 3,
   "id": "e702efee",
   "metadata": {},
   "outputs": [
    {
     "data": {
      "text/plain": [
       "1.3333333333333333"
      ]
     },
     "execution_count": 3,
     "metadata": {},
     "output_type": "execute_result"
    }
   ],
   "source": [
    "# 1875*x = 2500\n",
    "x = 2500/1875\n",
    "x"
   ]
  },
  {
   "cell_type": "code",
   "execution_count": 6,
   "id": "fdd76812",
   "metadata": {},
   "outputs": [
    {
     "data": {
      "text/plain": [
       "2499.99375"
      ]
     },
     "execution_count": 6,
     "metadata": {},
     "output_type": "execute_result"
    }
   ],
   "source": [
    "# So 33.33% increase. Check\n",
    "1875 + .33333*1875"
   ]
  },
  {
   "cell_type": "markdown",
   "id": "f3b01024",
   "metadata": {},
   "source": [
    "#### 3. 2% of the students in yours school have red hair. If there are 1500 students, how many do not have red hair? "
   ]
  },
  {
   "cell_type": "code",
   "execution_count": 8,
   "id": "5b29b005",
   "metadata": {},
   "outputs": [
    {
     "data": {
      "text/plain": [
       "1470.0"
      ]
     },
     "execution_count": 8,
     "metadata": {},
     "output_type": "execute_result"
    }
   ],
   "source": [
    "red_hair = 1500*0.02\n",
    "not_red_hair = 1500-red_hair\n",
    "not_red_hair"
   ]
  },
  {
   "cell_type": "code",
   "execution_count": 26,
   "id": "a6aece6f",
   "metadata": {},
   "outputs": [
    {
     "name": "stdout",
     "output_type": "stream",
     "text": [
      "red hair: 30, not red hair: 1470, total=1500\n"
     ]
    }
   ],
   "source": [
    "# check\n",
    "print(\"red hair: %d, not red hair: %d, total=%d\"%(red_hair, not_red_hair, red_hair+not_red_hair))"
   ]
  },
  {
   "cell_type": "markdown",
   "id": "9ef745bf",
   "metadata": {},
   "source": [
    "#### 4. A concert hall has 400 seats, of which 325 are occupied. What percent of the seats are at capacity?"
   ]
  },
  {
   "cell_type": "code",
   "execution_count": 22,
   "id": "fb942259",
   "metadata": {},
   "outputs": [
    {
     "name": "stdout",
     "output_type": "stream",
     "text": [
      "the concert hall is at 81.250000% capacity\n"
     ]
    }
   ],
   "source": [
    "at_cap = 325/400*100\n",
    "print(\"the concert hall is at %f%% capacity\"%at_cap)"
   ]
  },
  {
   "cell_type": "markdown",
   "id": "e9d7f492",
   "metadata": {},
   "source": [
    "#### 5. 71% of the earth's surface--that's about 362,100,000 square kilometers--is covered by water. Use this information to find the total surface area of the earth."
   ]
  },
  {
   "cell_type": "code",
   "execution_count": null,
   "id": "4f000733",
   "metadata": {},
   "outputs": [],
   "source": []
  },
  {
   "cell_type": "markdown",
   "id": "98d36e1d",
   "metadata": {},
   "source": [
    "#### 6. If global warming is going to increase the percent of the earth covered by water by 12\\\\%, how much land will be left? "
   ]
  },
  {
   "cell_type": "code",
   "execution_count": null,
   "id": "37bb154c",
   "metadata": {},
   "outputs": [],
   "source": []
  },
  {
   "cell_type": "markdown",
   "id": "f6f2708f",
   "metadata": {},
   "source": [
    "#### 7. Students in sammamish were asked about their opinion of dad statistics problems. 12% said \"Good\", 54% said \"Bad\", and the rest said \"No opinion\". If 650 people were surveyed, how many said \"No opinion\"?\n"
   ]
  },
  {
   "cell_type": "code",
   "execution_count": null,
   "id": "dfcfbb76",
   "metadata": {},
   "outputs": [],
   "source": []
  },
  {
   "cell_type": "markdown",
   "id": "a0b7830a",
   "metadata": {},
   "source": [
    "#### 8. The next year, 15\\\\% said good and 51\\\\% said bad. What is the percent increase of people who said good and bad? "
   ]
  },
  {
   "cell_type": "code",
   "execution_count": null,
   "id": "3c8a54a1",
   "metadata": {},
   "outputs": [],
   "source": []
  },
  {
   "cell_type": "markdown",
   "id": "772064db",
   "metadata": {},
   "source": [
    "#### Jamie, connor and Samuel spend 25% of their waking time playing video games, 50% arguing, and 25% doing homework. Their data needs them to spend at least 44% of their time studying. What do they need to reduce to get to the required number? (multiple answers)"
   ]
  },
  {
   "cell_type": "code",
   "execution_count": null,
   "id": "ca0ee231",
   "metadata": {},
   "outputs": [],
   "source": []
  }
 ],
 "metadata": {
  "kernelspec": {
   "display_name": "Python 3 (ipykernel)",
   "language": "python",
   "name": "python3"
  },
  "language_info": {
   "codemirror_mode": {
    "name": "ipython",
    "version": 3
   },
   "file_extension": ".py",
   "mimetype": "text/x-python",
   "name": "python",
   "nbconvert_exporter": "python",
   "pygments_lexer": "ipython3",
   "version": "3.9.12"
  }
 },
 "nbformat": 4,
 "nbformat_minor": 5
}
